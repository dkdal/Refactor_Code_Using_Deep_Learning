{
  "cells": [
    {
      "cell_type": "markdown",
      "metadata": {
        "id": "Oyb9cA1hkgj6"
      },
      "source": [
        "### Identify the repositories to download\n",
        "Use GitHub API, to retrive the github repository list.\n",
        "- Min 500 commits\n",
        "- Min 50 stars\n",
        "- Java programming language\n",
        "\n",
        "\n",
        "Note: Please add the GitHub API access token in the download.py file with and assign to the `GIT_FILE_LIMIT` variable"
      ]
    },
    {
      "cell_type": "code",
      "execution_count": 1,
      "metadata": {
        "id": "APFW9BpHkgj9"
      },
      "outputs": [],
      "source": [
        "import os\n",
        "import download\n",
        "from utils import data_download\n",
        "FILE_PATH = os.path.join(\"data\", \"repos.csv\")\n",
        "repos_with_commit = os.path.join(\"data\", \"repos_with_commit.csv\")\n",
        "repos_without_commit = os.path.join(\"data\", \"repos_without_commit.csv\")\n",
        "result_dataset_path = os.path.join(\"data\", \"result_dataset.jsonl\")"
      ]
    },
    {
      "cell_type": "markdown",
      "metadata": {},
      "source": [
        "### Fetch the repo list in privided FILE_PATH location."
      ]
    },
    {
      "cell_type": "code",
      "execution_count": 2,
      "metadata": {
        "id": "EMbDzu3SIGaT",
        "outputId": "ba05f17d-8ebb-45cf-e7ce-b3fd8f3a4a63"
      },
      "outputs": [
        {
          "name": "stdout",
          "output_type": "stream",
          "text": [
            "{'id': 132464395, 'node_id': 'MDEwOlJlcG9zaXRvcnkxMzI0NjQzOTU=', 'name': 'JavaGuide', 'full_name': 'Snailclimb/JavaGuide', 'private': False, 'owner': {'login': 'Snailclimb', 'id': 29880145, 'node_id': 'MDQ6VXNlcjI5ODgwMTQ1', 'avatar_url': 'https://avatars.githubusercontent.com/u/29880145?v=4', 'gravatar_id': '', 'url': 'https://api.github.com/users/Snailclimb', 'html_url': 'https://github.com/Snailclimb', 'followers_url': 'https://api.github.com/users/Snailclimb/followers', 'following_url': 'https://api.github.com/users/Snailclimb/following{/other_user}', 'gists_url': 'https://api.github.com/users/Snailclimb/gists{/gist_id}', 'starred_url': 'https://api.github.com/users/Snailclimb/starred{/owner}{/repo}', 'subscriptions_url': 'https://api.github.com/users/Snailclimb/subscriptions', 'organizations_url': 'https://api.github.com/users/Snailclimb/orgs', 'repos_url': 'https://api.github.com/users/Snailclimb/repos', 'events_url': 'https://api.github.com/users/Snailclimb/events{/privacy}', 'received_events_url': 'https://api.github.com/users/Snailclimb/received_events', 'type': 'User', 'site_admin': False}, 'html_url': 'https://github.com/Snailclimb/JavaGuide', 'description': '「Java学习+面试指南」一份涵盖大部分 Java 程序员所需要掌握的核心知识。准备 Java 面试，首选 JavaGuide！', 'fork': False, 'url': 'https://api.github.com/repos/Snailclimb/JavaGuide', 'forks_url': 'https://api.github.com/repos/Snailclimb/JavaGuide/forks', 'keys_url': 'https://api.github.com/repos/Snailclimb/JavaGuide/keys{/key_id}', 'collaborators_url': 'https://api.github.com/repos/Snailclimb/JavaGuide/collaborators{/collaborator}', 'teams_url': 'https://api.github.com/repos/Snailclimb/JavaGuide/teams', 'hooks_url': 'https://api.github.com/repos/Snailclimb/JavaGuide/hooks', 'issue_events_url': 'https://api.github.com/repos/Snailclimb/JavaGuide/issues/events{/number}', 'events_url': 'https://api.github.com/repos/Snailclimb/JavaGuide/events', 'assignees_url': 'https://api.github.com/repos/Snailclimb/JavaGuide/assignees{/user}', 'branches_url': 'https://api.github.com/repos/Snailclimb/JavaGuide/branches{/branch}', 'tags_url': 'https://api.github.com/repos/Snailclimb/JavaGuide/tags', 'blobs_url': 'https://api.github.com/repos/Snailclimb/JavaGuide/git/blobs{/sha}', 'git_tags_url': 'https://api.github.com/repos/Snailclimb/JavaGuide/git/tags{/sha}', 'git_refs_url': 'https://api.github.com/repos/Snailclimb/JavaGuide/git/refs{/sha}', 'trees_url': 'https://api.github.com/repos/Snailclimb/JavaGuide/git/trees{/sha}', 'statuses_url': 'https://api.github.com/repos/Snailclimb/JavaGuide/statuses/{sha}', 'languages_url': 'https://api.github.com/repos/Snailclimb/JavaGuide/languages', 'stargazers_url': 'https://api.github.com/repos/Snailclimb/JavaGuide/stargazers', 'contributors_url': 'https://api.github.com/repos/Snailclimb/JavaGuide/contributors', 'subscribers_url': 'https://api.github.com/repos/Snailclimb/JavaGuide/subscribers', 'subscription_url': 'https://api.github.com/repos/Snailclimb/JavaGuide/subscription', 'commits_url': 'https://api.github.com/repos/Snailclimb/JavaGuide/commits{/sha}', 'git_commits_url': 'https://api.github.com/repos/Snailclimb/JavaGuide/git/commits{/sha}', 'comments_url': 'https://api.github.com/repos/Snailclimb/JavaGuide/comments{/number}', 'issue_comment_url': 'https://api.github.com/repos/Snailclimb/JavaGuide/issues/comments{/number}', 'contents_url': 'https://api.github.com/repos/Snailclimb/JavaGuide/contents/{+path}', 'compare_url': 'https://api.github.com/repos/Snailclimb/JavaGuide/compare/{base}...{head}', 'merges_url': 'https://api.github.com/repos/Snailclimb/JavaGuide/merges', 'archive_url': 'https://api.github.com/repos/Snailclimb/JavaGuide/{archive_format}{/ref}', 'downloads_url': 'https://api.github.com/repos/Snailclimb/JavaGuide/downloads', 'issues_url': 'https://api.github.com/repos/Snailclimb/JavaGuide/issues{/number}', 'pulls_url': 'https://api.github.com/repos/Snailclimb/JavaGuide/pulls{/number}', 'milestones_url': 'https://api.github.com/repos/Snailclimb/JavaGuide/milestones{/number}', 'notifications_url': 'https://api.github.com/repos/Snailclimb/JavaGuide/notifications{?since,all,participating}', 'labels_url': 'https://api.github.com/repos/Snailclimb/JavaGuide/labels{/name}', 'releases_url': 'https://api.github.com/repos/Snailclimb/JavaGuide/releases{/id}', 'deployments_url': 'https://api.github.com/repos/Snailclimb/JavaGuide/deployments', 'created_at': '2018-05-07T13:27:00Z', 'updated_at': '2024-04-01T18:13:54Z', 'pushed_at': '2024-04-01T14:52:52Z', 'git_url': 'git://github.com/Snailclimb/JavaGuide.git', 'ssh_url': 'git@github.com:Snailclimb/JavaGuide.git', 'clone_url': 'https://github.com/Snailclimb/JavaGuide.git', 'svn_url': 'https://github.com/Snailclimb/JavaGuide', 'homepage': 'https://javaguide.cn', 'size': 175591, 'stargazers_count': 142426, 'watchers_count': 142426, 'language': 'Java', 'has_issues': True, 'has_projects': True, 'has_downloads': True, 'has_wiki': True, 'has_pages': False, 'has_discussions': True, 'forks_count': 45103, 'mirror_url': None, 'archived': False, 'disabled': False, 'open_issues_count': 58, 'license': {'key': 'apache-2.0', 'name': 'Apache License 2.0', 'spdx_id': 'Apache-2.0', 'url': 'https://api.github.com/licenses/apache-2.0', 'node_id': 'MDc6TGljZW5zZTI='}, 'allow_forking': True, 'is_template': False, 'web_commit_signoff_required': False, 'topics': ['algorithms', 'interview', 'java', 'jvm', 'mysql', 'redis', 'spring', 'system', 'system-design', 'zookeeper'], 'visibility': 'public', 'forks': 45103, 'open_issues': 58, 'watchers': 142426, 'default_branch': 'main', 'score': 1.0}\n",
            "<https://api.github.com/search/repositories?q=language%3Ajava+stars%3A%3E%3D50+forks%3A%3E%3D500&sort=stars&order=desc&per_page=1000&page=2>; rel=\"next\"\n",
            "{'id': 2993595, 'node_id': 'MDEwOlJlcG9zaXRvcnkyOTkzNTk1', 'name': 'analysis-ik', 'full_name': 'infinilabs/analysis-ik', 'private': False, 'owner': {'login': 'infinilabs', 'id': 76980829, 'node_id': 'MDEyOk9yZ2FuaXphdGlvbjc2OTgwODI5', 'avatar_url': 'https://avatars.githubusercontent.com/u/76980829?v=4', 'gravatar_id': '', 'url': 'https://api.github.com/users/infinilabs', 'html_url': 'https://github.com/infinilabs', 'followers_url': 'https://api.github.com/users/infinilabs/followers', 'following_url': 'https://api.github.com/users/infinilabs/following{/other_user}', 'gists_url': 'https://api.github.com/users/infinilabs/gists{/gist_id}', 'starred_url': 'https://api.github.com/users/infinilabs/starred{/owner}{/repo}', 'subscriptions_url': 'https://api.github.com/users/infinilabs/subscriptions', 'organizations_url': 'https://api.github.com/users/infinilabs/orgs', 'repos_url': 'https://api.github.com/users/infinilabs/repos', 'events_url': 'https://api.github.com/users/infinilabs/events{/privacy}', 'received_events_url': 'https://api.github.com/users/infinilabs/received_events', 'type': 'Organization', 'site_admin': False}, 'html_url': 'https://github.com/infinilabs/analysis-ik', 'description': '🚌 The IK Analysis plugin integrates Lucene IK analyzer into Elasticsearch and OpenSearch, support customized dictionary.', 'fork': False, 'url': 'https://api.github.com/repos/infinilabs/analysis-ik', 'forks_url': 'https://api.github.com/repos/infinilabs/analysis-ik/forks', 'keys_url': 'https://api.github.com/repos/infinilabs/analysis-ik/keys{/key_id}', 'collaborators_url': 'https://api.github.com/repos/infinilabs/analysis-ik/collaborators{/collaborator}', 'teams_url': 'https://api.github.com/repos/infinilabs/analysis-ik/teams', 'hooks_url': 'https://api.github.com/repos/infinilabs/analysis-ik/hooks', 'issue_events_url': 'https://api.github.com/repos/infinilabs/analysis-ik/issues/events{/number}', 'events_url': 'https://api.github.com/repos/infinilabs/analysis-ik/events', 'assignees_url': 'https://api.github.com/repos/infinilabs/analysis-ik/assignees{/user}', 'branches_url': 'https://api.github.com/repos/infinilabs/analysis-ik/branches{/branch}', 'tags_url': 'https://api.github.com/repos/infinilabs/analysis-ik/tags', 'blobs_url': 'https://api.github.com/repos/infinilabs/analysis-ik/git/blobs{/sha}', 'git_tags_url': 'https://api.github.com/repos/infinilabs/analysis-ik/git/tags{/sha}', 'git_refs_url': 'https://api.github.com/repos/infinilabs/analysis-ik/git/refs{/sha}', 'trees_url': 'https://api.github.com/repos/infinilabs/analysis-ik/git/trees{/sha}', 'statuses_url': 'https://api.github.com/repos/infinilabs/analysis-ik/statuses/{sha}', 'languages_url': 'https://api.github.com/repos/infinilabs/analysis-ik/languages', 'stargazers_url': 'https://api.github.com/repos/infinilabs/analysis-ik/stargazers', 'contributors_url': 'https://api.github.com/repos/infinilabs/analysis-ik/contributors', 'subscribers_url': 'https://api.github.com/repos/infinilabs/analysis-ik/subscribers', 'subscription_url': 'https://api.github.com/repos/infinilabs/analysis-ik/subscription', 'commits_url': 'https://api.github.com/repos/infinilabs/analysis-ik/commits{/sha}', 'git_commits_url': 'https://api.github.com/repos/infinilabs/analysis-ik/git/commits{/sha}', 'comments_url': 'https://api.github.com/repos/infinilabs/analysis-ik/comments{/number}', 'issue_comment_url': 'https://api.github.com/repos/infinilabs/analysis-ik/issues/comments{/number}', 'contents_url': 'https://api.github.com/repos/infinilabs/analysis-ik/contents/{+path}', 'compare_url': 'https://api.github.com/repos/infinilabs/analysis-ik/compare/{base}...{head}', 'merges_url': 'https://api.github.com/repos/infinilabs/analysis-ik/merges', 'archive_url': 'https://api.github.com/repos/infinilabs/analysis-ik/{archive_format}{/ref}', 'downloads_url': 'https://api.github.com/repos/infinilabs/analysis-ik/downloads', 'issues_url': 'https://api.github.com/repos/infinilabs/analysis-ik/issues{/number}', 'pulls_url': 'https://api.github.com/repos/infinilabs/analysis-ik/pulls{/number}', 'milestones_url': 'https://api.github.com/repos/infinilabs/analysis-ik/milestones{/number}', 'notifications_url': 'https://api.github.com/repos/infinilabs/analysis-ik/notifications{?since,all,participating}', 'labels_url': 'https://api.github.com/repos/infinilabs/analysis-ik/labels{/name}', 'releases_url': 'https://api.github.com/repos/infinilabs/analysis-ik/releases{/id}', 'deployments_url': 'https://api.github.com/repos/infinilabs/analysis-ik/deployments', 'created_at': '2011-12-16T09:01:45Z', 'updated_at': '2024-04-01T13:40:08Z', 'pushed_at': '2024-03-26T05:05:19Z', 'git_url': 'git://github.com/infinilabs/analysis-ik.git', 'ssh_url': 'git@github.com:infinilabs/analysis-ik.git', 'clone_url': 'https://github.com/infinilabs/analysis-ik.git', 'svn_url': 'https://github.com/infinilabs/analysis-ik', 'homepage': '', 'size': 7672, 'stargazers_count': 16037, 'watchers_count': 16037, 'language': 'Java', 'has_issues': True, 'has_projects': True, 'has_downloads': True, 'has_wiki': True, 'has_pages': False, 'has_discussions': False, 'forks_count': 3229, 'mirror_url': None, 'archived': False, 'disabled': False, 'open_issues_count': 366, 'license': {'key': 'apache-2.0', 'name': 'Apache License 2.0', 'spdx_id': 'Apache-2.0', 'url': 'https://api.github.com/licenses/apache-2.0', 'node_id': 'MDc6TGljZW5zZTI='}, 'allow_forking': True, 'is_template': False, 'web_commit_signoff_required': False, 'topics': ['analyzer', 'easysearch', 'elasticsearch', 'ik-analysis', 'java', 'opensearch'], 'visibility': 'public', 'forks': 3229, 'open_issues': 366, 'watchers': 16037, 'default_branch': 'master', 'score': 1.0}\n",
            "<https://api.github.com/search/repositories?q=language%3Ajava+stars%3A%3E%3D50+forks%3A%3E%3D500&sort=stars&order=desc&per_page=1000&page=1>; rel=\"prev\"\n",
            "<https://api.github.com/search/repositories?q=language%3Ajava+stars%3A%3E%3D50+forks%3A%3E%3D500&sort=stars&order=desc&per_page=1000&page=3>; rel=\"next\"\n",
            "{'id': 2352744, 'node_id': 'MDEwOlJlcG9zaXRvcnkyMzUyNzQ0', 'name': 'cas', 'full_name': 'apereo/cas', 'private': False, 'owner': {'login': 'apereo', 'id': 4679233, 'node_id': 'MDEyOk9yZ2FuaXphdGlvbjQ2NzkyMzM=', 'avatar_url': 'https://avatars.githubusercontent.com/u/4679233?v=4', 'gravatar_id': '', 'url': 'https://api.github.com/users/apereo', 'html_url': 'https://github.com/apereo', 'followers_url': 'https://api.github.com/users/apereo/followers', 'following_url': 'https://api.github.com/users/apereo/following{/other_user}', 'gists_url': 'https://api.github.com/users/apereo/gists{/gist_id}', 'starred_url': 'https://api.github.com/users/apereo/starred{/owner}{/repo}', 'subscriptions_url': 'https://api.github.com/users/apereo/subscriptions', 'organizations_url': 'https://api.github.com/users/apereo/orgs', 'repos_url': 'https://api.github.com/users/apereo/repos', 'events_url': 'https://api.github.com/users/apereo/events{/privacy}', 'received_events_url': 'https://api.github.com/users/apereo/received_events', 'type': 'Organization', 'site_admin': False}, 'html_url': 'https://github.com/apereo/cas', 'description': 'Apereo CAS - Identity & Single Sign On for all earthlings and beyond.', 'fork': False, 'url': 'https://api.github.com/repos/apereo/cas', 'forks_url': 'https://api.github.com/repos/apereo/cas/forks', 'keys_url': 'https://api.github.com/repos/apereo/cas/keys{/key_id}', 'collaborators_url': 'https://api.github.com/repos/apereo/cas/collaborators{/collaborator}', 'teams_url': 'https://api.github.com/repos/apereo/cas/teams', 'hooks_url': 'https://api.github.com/repos/apereo/cas/hooks', 'issue_events_url': 'https://api.github.com/repos/apereo/cas/issues/events{/number}', 'events_url': 'https://api.github.com/repos/apereo/cas/events', 'assignees_url': 'https://api.github.com/repos/apereo/cas/assignees{/user}', 'branches_url': 'https://api.github.com/repos/apereo/cas/branches{/branch}', 'tags_url': 'https://api.github.com/repos/apereo/cas/tags', 'blobs_url': 'https://api.github.com/repos/apereo/cas/git/blobs{/sha}', 'git_tags_url': 'https://api.github.com/repos/apereo/cas/git/tags{/sha}', 'git_refs_url': 'https://api.github.com/repos/apereo/cas/git/refs{/sha}', 'trees_url': 'https://api.github.com/repos/apereo/cas/git/trees{/sha}', 'statuses_url': 'https://api.github.com/repos/apereo/cas/statuses/{sha}', 'languages_url': 'https://api.github.com/repos/apereo/cas/languages', 'stargazers_url': 'https://api.github.com/repos/apereo/cas/stargazers', 'contributors_url': 'https://api.github.com/repos/apereo/cas/contributors', 'subscribers_url': 'https://api.github.com/repos/apereo/cas/subscribers', 'subscription_url': 'https://api.github.com/repos/apereo/cas/subscription', 'commits_url': 'https://api.github.com/repos/apereo/cas/commits{/sha}', 'git_commits_url': 'https://api.github.com/repos/apereo/cas/git/commits{/sha}', 'comments_url': 'https://api.github.com/repos/apereo/cas/comments{/number}', 'issue_comment_url': 'https://api.github.com/repos/apereo/cas/issues/comments{/number}', 'contents_url': 'https://api.github.com/repos/apereo/cas/contents/{+path}', 'compare_url': 'https://api.github.com/repos/apereo/cas/compare/{base}...{head}', 'merges_url': 'https://api.github.com/repos/apereo/cas/merges', 'archive_url': 'https://api.github.com/repos/apereo/cas/{archive_format}{/ref}', 'downloads_url': 'https://api.github.com/repos/apereo/cas/downloads', 'issues_url': 'https://api.github.com/repos/apereo/cas/issues{/number}', 'pulls_url': 'https://api.github.com/repos/apereo/cas/pulls{/number}', 'milestones_url': 'https://api.github.com/repos/apereo/cas/milestones{/number}', 'notifications_url': 'https://api.github.com/repos/apereo/cas/notifications{?since,all,participating}', 'labels_url': 'https://api.github.com/repos/apereo/cas/labels{/name}', 'releases_url': 'https://api.github.com/repos/apereo/cas/releases{/id}', 'deployments_url': 'https://api.github.com/repos/apereo/cas/deployments', 'created_at': '2011-09-09T01:36:42Z', 'updated_at': '2024-04-02T00:01:08Z', 'pushed_at': '2024-03-30T10:55:59Z', 'git_url': 'git://github.com/apereo/cas.git', 'ssh_url': 'git@github.com:apereo/cas.git', 'clone_url': 'https://github.com/apereo/cas.git', 'svn_url': 'https://github.com/apereo/cas', 'homepage': 'https://apereo.github.io/cas/', 'size': 362787, 'stargazers_count': 10600, 'watchers_count': 10600, 'language': 'Java', 'has_issues': False, 'has_projects': False, 'has_downloads': True, 'has_wiki': False, 'has_pages': True, 'has_discussions': False, 'forks_count': 3873, 'mirror_url': None, 'archived': False, 'disabled': False, 'open_issues_count': 2, 'license': {'key': 'apache-2.0', 'name': 'Apache License 2.0', 'spdx_id': 'Apache-2.0', 'url': 'https://api.github.com/licenses/apache-2.0', 'node_id': 'MDc6TGljZW5zZTI='}, 'allow_forking': True, 'is_template': False, 'web_commit_signoff_required': False, 'topics': ['authentication', 'authorization', 'aws', 'duosecurity', 'identity-provider', 'java', 'ldap-authentication', 'mfa', 'oauth2', 'open-source', 'openidconnect', 'saml2', 'spring-boot', 'spring-cloud', 'spring-framework', 'spring-webflow', 'sso', 'sso-authentication', 'u2f-server', 'websso'], 'visibility': 'public', 'forks': 3873, 'open_issues': 2, 'watchers': 10600, 'default_branch': 'master', 'score': 1.0}\n",
            "<https://api.github.com/search/repositories?q=language%3Ajava+stars%3A%3E%3D50+forks%3A%3E%3D500&sort=stars&order=desc&per_page=1000&page=2>; rel=\"prev\"\n",
            "<https://api.github.com/search/repositories?q=language%3Ajava+stars%3A%3E%3D50+forks%3A%3E%3D500&sort=stars&order=desc&per_page=1000&page=4>; rel=\"next\"\n",
            "{'id': 537800, 'node_id': 'MDEwOlJlcG9zaXRvcnk1Mzc4MDA=', 'name': 'metrics', 'full_name': 'dropwizard/metrics', 'private': False, 'owner': {'login': 'dropwizard', 'id': 5478557, 'node_id': 'MDEyOk9yZ2FuaXphdGlvbjU0Nzg1NTc=', 'avatar_url': 'https://avatars.githubusercontent.com/u/5478557?v=4', 'gravatar_id': '', 'url': 'https://api.github.com/users/dropwizard', 'html_url': 'https://github.com/dropwizard', 'followers_url': 'https://api.github.com/users/dropwizard/followers', 'following_url': 'https://api.github.com/users/dropwizard/following{/other_user}', 'gists_url': 'https://api.github.com/users/dropwizard/gists{/gist_id}', 'starred_url': 'https://api.github.com/users/dropwizard/starred{/owner}{/repo}', 'subscriptions_url': 'https://api.github.com/users/dropwizard/subscriptions', 'organizations_url': 'https://api.github.com/users/dropwizard/orgs', 'repos_url': 'https://api.github.com/users/dropwizard/repos', 'events_url': 'https://api.github.com/users/dropwizard/events{/privacy}', 'received_events_url': 'https://api.github.com/users/dropwizard/received_events', 'type': 'Organization', 'site_admin': False}, 'html_url': 'https://github.com/dropwizard/metrics', 'description': \":chart_with_upwards_trend: Capturing JVM- and application-level metrics. So you know what's going on.\", 'fork': False, 'url': 'https://api.github.com/repos/dropwizard/metrics', 'forks_url': 'https://api.github.com/repos/dropwizard/metrics/forks', 'keys_url': 'https://api.github.com/repos/dropwizard/metrics/keys{/key_id}', 'collaborators_url': 'https://api.github.com/repos/dropwizard/metrics/collaborators{/collaborator}', 'teams_url': 'https://api.github.com/repos/dropwizard/metrics/teams', 'hooks_url': 'https://api.github.com/repos/dropwizard/metrics/hooks', 'issue_events_url': 'https://api.github.com/repos/dropwizard/metrics/issues/events{/number}', 'events_url': 'https://api.github.com/repos/dropwizard/metrics/events', 'assignees_url': 'https://api.github.com/repos/dropwizard/metrics/assignees{/user}', 'branches_url': 'https://api.github.com/repos/dropwizard/metrics/branches{/branch}', 'tags_url': 'https://api.github.com/repos/dropwizard/metrics/tags', 'blobs_url': 'https://api.github.com/repos/dropwizard/metrics/git/blobs{/sha}', 'git_tags_url': 'https://api.github.com/repos/dropwizard/metrics/git/tags{/sha}', 'git_refs_url': 'https://api.github.com/repos/dropwizard/metrics/git/refs{/sha}', 'trees_url': 'https://api.github.com/repos/dropwizard/metrics/git/trees{/sha}', 'statuses_url': 'https://api.github.com/repos/dropwizard/metrics/statuses/{sha}', 'languages_url': 'https://api.github.com/repos/dropwizard/metrics/languages', 'stargazers_url': 'https://api.github.com/repos/dropwizard/metrics/stargazers', 'contributors_url': 'https://api.github.com/repos/dropwizard/metrics/contributors', 'subscribers_url': 'https://api.github.com/repos/dropwizard/metrics/subscribers', 'subscription_url': 'https://api.github.com/repos/dropwizard/metrics/subscription', 'commits_url': 'https://api.github.com/repos/dropwizard/metrics/commits{/sha}', 'git_commits_url': 'https://api.github.com/repos/dropwizard/metrics/git/commits{/sha}', 'comments_url': 'https://api.github.com/repos/dropwizard/metrics/comments{/number}', 'issue_comment_url': 'https://api.github.com/repos/dropwizard/metrics/issues/comments{/number}', 'contents_url': 'https://api.github.com/repos/dropwizard/metrics/contents/{+path}', 'compare_url': 'https://api.github.com/repos/dropwizard/metrics/compare/{base}...{head}', 'merges_url': 'https://api.github.com/repos/dropwizard/metrics/merges', 'archive_url': 'https://api.github.com/repos/dropwizard/metrics/{archive_format}{/ref}', 'downloads_url': 'https://api.github.com/repos/dropwizard/metrics/downloads', 'issues_url': 'https://api.github.com/repos/dropwizard/metrics/issues{/number}', 'pulls_url': 'https://api.github.com/repos/dropwizard/metrics/pulls{/number}', 'milestones_url': 'https://api.github.com/repos/dropwizard/metrics/milestones{/number}', 'notifications_url': 'https://api.github.com/repos/dropwizard/metrics/notifications{?since,all,participating}', 'labels_url': 'https://api.github.com/repos/dropwizard/metrics/labels{/name}', 'releases_url': 'https://api.github.com/repos/dropwizard/metrics/releases{/id}', 'deployments_url': 'https://api.github.com/repos/dropwizard/metrics/deployments', 'created_at': '2010-02-26T19:44:42Z', 'updated_at': '2024-04-01T11:26:41Z', 'pushed_at': '2024-03-30T02:35:14Z', 'git_url': 'git://github.com/dropwizard/metrics.git', 'ssh_url': 'git@github.com:dropwizard/metrics.git', 'clone_url': 'https://github.com/dropwizard/metrics.git', 'svn_url': 'https://github.com/dropwizard/metrics', 'homepage': 'https://metrics.dropwizard.io', 'size': 20077, 'stargazers_count': 7794, 'watchers_count': 7794, 'language': 'Java', 'has_issues': True, 'has_projects': False, 'has_downloads': True, 'has_wiki': False, 'has_pages': True, 'has_discussions': True, 'forks_count': 1799, 'mirror_url': None, 'archived': False, 'disabled': False, 'open_issues_count': 11, 'license': {'key': 'apache-2.0', 'name': 'Apache License 2.0', 'spdx_id': 'Apache-2.0', 'url': 'https://api.github.com/licenses/apache-2.0', 'node_id': 'MDc6TGljZW5zZTI='}, 'allow_forking': True, 'is_template': False, 'web_commit_signoff_required': False, 'topics': ['dropwizard-metrics', 'java', 'metrics', 'metrics-library'], 'visibility': 'public', 'forks': 1799, 'open_issues': 11, 'watchers': 7794, 'default_branch': 'release/4.2.x', 'score': 1.0}\n",
            "<https://api.github.com/search/repositories?q=language%3Ajava+stars%3A%3E%3D50+forks%3A%3E%3D500&sort=stars&order=desc&per_page=1000&page=3>; rel=\"prev\"\n",
            "<https://api.github.com/search/repositories?q=language%3Ajava+stars%3A%3E%3D50+forks%3A%3E%3D500&sort=stars&order=desc&per_page=1000&page=5>; rel=\"next\"\n",
            "{'id': 89687271, 'node_id': 'MDEwOlJlcG9zaXRvcnk4OTY4NzI3MQ==', 'name': 'spring-cloud-examples', 'full_name': 'ityouknow/spring-cloud-examples', 'private': False, 'owner': {'login': 'ityouknow', 'id': 4979648, 'node_id': 'MDQ6VXNlcjQ5Nzk2NDg=', 'avatar_url': 'https://avatars.githubusercontent.com/u/4979648?v=4', 'gravatar_id': '', 'url': 'https://api.github.com/users/ityouknow', 'html_url': 'https://github.com/ityouknow', 'followers_url': 'https://api.github.com/users/ityouknow/followers', 'following_url': 'https://api.github.com/users/ityouknow/following{/other_user}', 'gists_url': 'https://api.github.com/users/ityouknow/gists{/gist_id}', 'starred_url': 'https://api.github.com/users/ityouknow/starred{/owner}{/repo}', 'subscriptions_url': 'https://api.github.com/users/ityouknow/subscriptions', 'organizations_url': 'https://api.github.com/users/ityouknow/orgs', 'repos_url': 'https://api.github.com/users/ityouknow/repos', 'events_url': 'https://api.github.com/users/ityouknow/events{/privacy}', 'received_events_url': 'https://api.github.com/users/ityouknow/received_events', 'type': 'User', 'site_admin': False}, 'html_url': 'https://github.com/ityouknow/spring-cloud-examples', 'description': 'Spring Cloud 学习案例，服务发现、服务治理、链路追踪、服务监控等', 'fork': False, 'url': 'https://api.github.com/repos/ityouknow/spring-cloud-examples', 'forks_url': 'https://api.github.com/repos/ityouknow/spring-cloud-examples/forks', 'keys_url': 'https://api.github.com/repos/ityouknow/spring-cloud-examples/keys{/key_id}', 'collaborators_url': 'https://api.github.com/repos/ityouknow/spring-cloud-examples/collaborators{/collaborator}', 'teams_url': 'https://api.github.com/repos/ityouknow/spring-cloud-examples/teams', 'hooks_url': 'https://api.github.com/repos/ityouknow/spring-cloud-examples/hooks', 'issue_events_url': 'https://api.github.com/repos/ityouknow/spring-cloud-examples/issues/events{/number}', 'events_url': 'https://api.github.com/repos/ityouknow/spring-cloud-examples/events', 'assignees_url': 'https://api.github.com/repos/ityouknow/spring-cloud-examples/assignees{/user}', 'branches_url': 'https://api.github.com/repos/ityouknow/spring-cloud-examples/branches{/branch}', 'tags_url': 'https://api.github.com/repos/ityouknow/spring-cloud-examples/tags', 'blobs_url': 'https://api.github.com/repos/ityouknow/spring-cloud-examples/git/blobs{/sha}', 'git_tags_url': 'https://api.github.com/repos/ityouknow/spring-cloud-examples/git/tags{/sha}', 'git_refs_url': 'https://api.github.com/repos/ityouknow/spring-cloud-examples/git/refs{/sha}', 'trees_url': 'https://api.github.com/repos/ityouknow/spring-cloud-examples/git/trees{/sha}', 'statuses_url': 'https://api.github.com/repos/ityouknow/spring-cloud-examples/statuses/{sha}', 'languages_url': 'https://api.github.com/repos/ityouknow/spring-cloud-examples/languages', 'stargazers_url': 'https://api.github.com/repos/ityouknow/spring-cloud-examples/stargazers', 'contributors_url': 'https://api.github.com/repos/ityouknow/spring-cloud-examples/contributors', 'subscribers_url': 'https://api.github.com/repos/ityouknow/spring-cloud-examples/subscribers', 'subscription_url': 'https://api.github.com/repos/ityouknow/spring-cloud-examples/subscription', 'commits_url': 'https://api.github.com/repos/ityouknow/spring-cloud-examples/commits{/sha}', 'git_commits_url': 'https://api.github.com/repos/ityouknow/spring-cloud-examples/git/commits{/sha}', 'comments_url': 'https://api.github.com/repos/ityouknow/spring-cloud-examples/comments{/number}', 'issue_comment_url': 'https://api.github.com/repos/ityouknow/spring-cloud-examples/issues/comments{/number}', 'contents_url': 'https://api.github.com/repos/ityouknow/spring-cloud-examples/contents/{+path}', 'compare_url': 'https://api.github.com/repos/ityouknow/spring-cloud-examples/compare/{base}...{head}', 'merges_url': 'https://api.github.com/repos/ityouknow/spring-cloud-examples/merges', 'archive_url': 'https://api.github.com/repos/ityouknow/spring-cloud-examples/{archive_format}{/ref}', 'downloads_url': 'https://api.github.com/repos/ityouknow/spring-cloud-examples/downloads', 'issues_url': 'https://api.github.com/repos/ityouknow/spring-cloud-examples/issues{/number}', 'pulls_url': 'https://api.github.com/repos/ityouknow/spring-cloud-examples/pulls{/number}', 'milestones_url': 'https://api.github.com/repos/ityouknow/spring-cloud-examples/milestones{/number}', 'notifications_url': 'https://api.github.com/repos/ityouknow/spring-cloud-examples/notifications{?since,all,participating}', 'labels_url': 'https://api.github.com/repos/ityouknow/spring-cloud-examples/labels{/name}', 'releases_url': 'https://api.github.com/repos/ityouknow/spring-cloud-examples/releases{/id}', 'deployments_url': 'https://api.github.com/repos/ityouknow/spring-cloud-examples/deployments', 'created_at': '2017-04-28T08:48:53Z', 'updated_at': '2024-04-01T06:41:31Z', 'pushed_at': '2023-07-18T20:52:20Z', 'git_url': 'git://github.com/ityouknow/spring-cloud-examples.git', 'ssh_url': 'git@github.com:ityouknow/spring-cloud-examples.git', 'clone_url': 'https://github.com/ityouknow/spring-cloud-examples.git', 'svn_url': 'https://github.com/ityouknow/spring-cloud-examples', 'homepage': 'http://www.ityouknow.com/spring-cloud.html', 'size': 76, 'stargazers_count': 6181, 'watchers_count': 6181, 'language': 'Java', 'has_issues': True, 'has_projects': True, 'has_downloads': True, 'has_wiki': True, 'has_pages': False, 'has_discussions': False, 'forks_count': 3090, 'mirror_url': None, 'archived': False, 'disabled': False, 'open_issues_count': 5, 'license': None, 'allow_forking': True, 'is_template': False, 'web_commit_signoff_required': False, 'topics': ['eureka', 'hystrix', 'hystrix-dashboard-turbine', 'refresh', 'spring-boot', 'spring-cloud', 'spring-cloud-demo', 'spring-cloud-examples', 'springboot', 'springclond', 'springcloud', 'turbine', 'zuul'], 'visibility': 'public', 'forks': 3090, 'open_issues': 5, 'watchers': 6181, 'default_branch': 'master', 'score': 1.0}\n",
            "<https://api.github.com/search/repositories?q=language%3Ajava+stars%3A%3E%3D50+forks%3A%3E%3D500&sort=stars&order=desc&per_page=1000&page=4>; rel=\"prev\"\n",
            "<https://api.github.com/search/repositories?q=language%3Ajava+stars%3A%3E%3D50+forks%3A%3E%3D500&sort=stars&order=desc&per_page=1000&page=6>; rel=\"next\"\n",
            "{'id': 206317, 'node_id': 'MDEwOlJlcG9zaXRvcnkyMDYzMTc=', 'name': 'camel', 'full_name': 'apache/camel', 'private': False, 'owner': {'login': 'apache', 'id': 47359, 'node_id': 'MDEyOk9yZ2FuaXphdGlvbjQ3MzU5', 'avatar_url': 'https://avatars.githubusercontent.com/u/47359?v=4', 'gravatar_id': '', 'url': 'https://api.github.com/users/apache', 'html_url': 'https://github.com/apache', 'followers_url': 'https://api.github.com/users/apache/followers', 'following_url': 'https://api.github.com/users/apache/following{/other_user}', 'gists_url': 'https://api.github.com/users/apache/gists{/gist_id}', 'starred_url': 'https://api.github.com/users/apache/starred{/owner}{/repo}', 'subscriptions_url': 'https://api.github.com/users/apache/subscriptions', 'organizations_url': 'https://api.github.com/users/apache/orgs', 'repos_url': 'https://api.github.com/users/apache/repos', 'events_url': 'https://api.github.com/users/apache/events{/privacy}', 'received_events_url': 'https://api.github.com/users/apache/received_events', 'type': 'Organization', 'site_admin': False}, 'html_url': 'https://github.com/apache/camel', 'description': 'Apache Camel is an open source integration framework that empowers you to quickly and easily integrate various systems consuming or producing data.', 'fork': False, 'url': 'https://api.github.com/repos/apache/camel', 'forks_url': 'https://api.github.com/repos/apache/camel/forks', 'keys_url': 'https://api.github.com/repos/apache/camel/keys{/key_id}', 'collaborators_url': 'https://api.github.com/repos/apache/camel/collaborators{/collaborator}', 'teams_url': 'https://api.github.com/repos/apache/camel/teams', 'hooks_url': 'https://api.github.com/repos/apache/camel/hooks', 'issue_events_url': 'https://api.github.com/repos/apache/camel/issues/events{/number}', 'events_url': 'https://api.github.com/repos/apache/camel/events', 'assignees_url': 'https://api.github.com/repos/apache/camel/assignees{/user}', 'branches_url': 'https://api.github.com/repos/apache/camel/branches{/branch}', 'tags_url': 'https://api.github.com/repos/apache/camel/tags', 'blobs_url': 'https://api.github.com/repos/apache/camel/git/blobs{/sha}', 'git_tags_url': 'https://api.github.com/repos/apache/camel/git/tags{/sha}', 'git_refs_url': 'https://api.github.com/repos/apache/camel/git/refs{/sha}', 'trees_url': 'https://api.github.com/repos/apache/camel/git/trees{/sha}', 'statuses_url': 'https://api.github.com/repos/apache/camel/statuses/{sha}', 'languages_url': 'https://api.github.com/repos/apache/camel/languages', 'stargazers_url': 'https://api.github.com/repos/apache/camel/stargazers', 'contributors_url': 'https://api.github.com/repos/apache/camel/contributors', 'subscribers_url': 'https://api.github.com/repos/apache/camel/subscribers', 'subscription_url': 'https://api.github.com/repos/apache/camel/subscription', 'commits_url': 'https://api.github.com/repos/apache/camel/commits{/sha}', 'git_commits_url': 'https://api.github.com/repos/apache/camel/git/commits{/sha}', 'comments_url': 'https://api.github.com/repos/apache/camel/comments{/number}', 'issue_comment_url': 'https://api.github.com/repos/apache/camel/issues/comments{/number}', 'contents_url': 'https://api.github.com/repos/apache/camel/contents/{+path}', 'compare_url': 'https://api.github.com/repos/apache/camel/compare/{base}...{head}', 'merges_url': 'https://api.github.com/repos/apache/camel/merges', 'archive_url': 'https://api.github.com/repos/apache/camel/{archive_format}{/ref}', 'downloads_url': 'https://api.github.com/repos/apache/camel/downloads', 'issues_url': 'https://api.github.com/repos/apache/camel/issues{/number}', 'pulls_url': 'https://api.github.com/repos/apache/camel/pulls{/number}', 'milestones_url': 'https://api.github.com/repos/apache/camel/milestones{/number}', 'notifications_url': 'https://api.github.com/repos/apache/camel/notifications{?since,all,participating}', 'labels_url': 'https://api.github.com/repos/apache/camel/labels{/name}', 'releases_url': 'https://api.github.com/repos/apache/camel/releases{/id}', 'deployments_url': 'https://api.github.com/repos/apache/camel/deployments', 'created_at': '2009-05-21T00:25:36Z', 'updated_at': '2024-04-01T13:45:23Z', 'pushed_at': '2024-04-01T09:17:38Z', 'git_url': 'git://github.com/apache/camel.git', 'ssh_url': 'git@github.com:apache/camel.git', 'clone_url': 'https://github.com/apache/camel.git', 'svn_url': 'https://github.com/apache/camel', 'homepage': 'https://camel.apache.org', 'size': 881866, 'stargazers_count': 5284, 'watchers_count': 5284, 'language': 'Java', 'has_issues': False, 'has_projects': True, 'has_downloads': True, 'has_wiki': False, 'has_pages': False, 'has_discussions': False, 'forks_count': 4865, 'mirror_url': None, 'archived': False, 'disabled': False, 'open_issues_count': 5, 'license': {'key': 'apache-2.0', 'name': 'Apache License 2.0', 'spdx_id': 'Apache-2.0', 'url': 'https://api.github.com/licenses/apache-2.0', 'node_id': 'MDc6TGljZW5zZTI='}, 'allow_forking': True, 'is_template': False, 'web_commit_signoff_required': False, 'topics': ['camel', 'integration', 'java'], 'visibility': 'public', 'forks': 4865, 'open_issues': 5, 'watchers': 5284, 'default_branch': 'main', 'score': 1.0}\n",
            "<https://api.github.com/search/repositories?q=language%3Ajava+stars%3A%3E%3D50+forks%3A%3E%3D500&sort=stars&order=desc&per_page=1000&page=5>; rel=\"prev\"\n",
            "<https://api.github.com/search/repositories?q=language%3Ajava+stars%3A%3E%3D50+forks%3A%3E%3D500&sort=stars&order=desc&per_page=1000&page=7>; rel=\"next\"\n",
            "{'id': 65681319, 'node_id': 'MDEwOlJlcG9zaXRvcnk2NTY4MTMxOQ==', 'name': 'MusicBot', 'full_name': 'jagrosh/MusicBot', 'private': False, 'owner': {'login': 'jagrosh', 'id': 12754382, 'node_id': 'MDQ6VXNlcjEyNzU0Mzgy', 'avatar_url': 'https://avatars.githubusercontent.com/u/12754382?v=4', 'gravatar_id': '', 'url': 'https://api.github.com/users/jagrosh', 'html_url': 'https://github.com/jagrosh', 'followers_url': 'https://api.github.com/users/jagrosh/followers', 'following_url': 'https://api.github.com/users/jagrosh/following{/other_user}', 'gists_url': 'https://api.github.com/users/jagrosh/gists{/gist_id}', 'starred_url': 'https://api.github.com/users/jagrosh/starred{/owner}{/repo}', 'subscriptions_url': 'https://api.github.com/users/jagrosh/subscriptions', 'organizations_url': 'https://api.github.com/users/jagrosh/orgs', 'repos_url': 'https://api.github.com/users/jagrosh/repos', 'events_url': 'https://api.github.com/users/jagrosh/events{/privacy}', 'received_events_url': 'https://api.github.com/users/jagrosh/received_events', 'type': 'User', 'site_admin': False}, 'html_url': 'https://github.com/jagrosh/MusicBot', 'description': \"🎶 A Discord music bot that's easy to set up and run yourself!\", 'fork': False, 'url': 'https://api.github.com/repos/jagrosh/MusicBot', 'forks_url': 'https://api.github.com/repos/jagrosh/MusicBot/forks', 'keys_url': 'https://api.github.com/repos/jagrosh/MusicBot/keys{/key_id}', 'collaborators_url': 'https://api.github.com/repos/jagrosh/MusicBot/collaborators{/collaborator}', 'teams_url': 'https://api.github.com/repos/jagrosh/MusicBot/teams', 'hooks_url': 'https://api.github.com/repos/jagrosh/MusicBot/hooks', 'issue_events_url': 'https://api.github.com/repos/jagrosh/MusicBot/issues/events{/number}', 'events_url': 'https://api.github.com/repos/jagrosh/MusicBot/events', 'assignees_url': 'https://api.github.com/repos/jagrosh/MusicBot/assignees{/user}', 'branches_url': 'https://api.github.com/repos/jagrosh/MusicBot/branches{/branch}', 'tags_url': 'https://api.github.com/repos/jagrosh/MusicBot/tags', 'blobs_url': 'https://api.github.com/repos/jagrosh/MusicBot/git/blobs{/sha}', 'git_tags_url': 'https://api.github.com/repos/jagrosh/MusicBot/git/tags{/sha}', 'git_refs_url': 'https://api.github.com/repos/jagrosh/MusicBot/git/refs{/sha}', 'trees_url': 'https://api.github.com/repos/jagrosh/MusicBot/git/trees{/sha}', 'statuses_url': 'https://api.github.com/repos/jagrosh/MusicBot/statuses/{sha}', 'languages_url': 'https://api.github.com/repos/jagrosh/MusicBot/languages', 'stargazers_url': 'https://api.github.com/repos/jagrosh/MusicBot/stargazers', 'contributors_url': 'https://api.github.com/repos/jagrosh/MusicBot/contributors', 'subscribers_url': 'https://api.github.com/repos/jagrosh/MusicBot/subscribers', 'subscription_url': 'https://api.github.com/repos/jagrosh/MusicBot/subscription', 'commits_url': 'https://api.github.com/repos/jagrosh/MusicBot/commits{/sha}', 'git_commits_url': 'https://api.github.com/repos/jagrosh/MusicBot/git/commits{/sha}', 'comments_url': 'https://api.github.com/repos/jagrosh/MusicBot/comments{/number}', 'issue_comment_url': 'https://api.github.com/repos/jagrosh/MusicBot/issues/comments{/number}', 'contents_url': 'https://api.github.com/repos/jagrosh/MusicBot/contents/{+path}', 'compare_url': 'https://api.github.com/repos/jagrosh/MusicBot/compare/{base}...{head}', 'merges_url': 'https://api.github.com/repos/jagrosh/MusicBot/merges', 'archive_url': 'https://api.github.com/repos/jagrosh/MusicBot/{archive_format}{/ref}', 'downloads_url': 'https://api.github.com/repos/jagrosh/MusicBot/downloads', 'issues_url': 'https://api.github.com/repos/jagrosh/MusicBot/issues{/number}', 'pulls_url': 'https://api.github.com/repos/jagrosh/MusicBot/pulls{/number}', 'milestones_url': 'https://api.github.com/repos/jagrosh/MusicBot/milestones{/number}', 'notifications_url': 'https://api.github.com/repos/jagrosh/MusicBot/notifications{?since,all,participating}', 'labels_url': 'https://api.github.com/repos/jagrosh/MusicBot/labels{/name}', 'releases_url': 'https://api.github.com/repos/jagrosh/MusicBot/releases{/id}', 'deployments_url': 'https://api.github.com/repos/jagrosh/MusicBot/deployments', 'created_at': '2016-08-14T18:46:29Z', 'updated_at': '2024-04-01T21:32:43Z', 'pushed_at': '2024-04-01T07:10:37Z', 'git_url': 'git://github.com/jagrosh/MusicBot.git', 'ssh_url': 'git@github.com:jagrosh/MusicBot.git', 'clone_url': 'https://github.com/jagrosh/MusicBot.git', 'svn_url': 'https://github.com/jagrosh/MusicBot', 'homepage': 'https://jmusicbot.com', 'size': 7750, 'stargazers_count': 4668, 'watchers_count': 4668, 'language': 'Java', 'has_issues': True, 'has_projects': False, 'has_downloads': True, 'has_wiki': True, 'has_pages': True, 'has_discussions': True, 'forks_count': 2361, 'mirror_url': None, 'archived': False, 'disabled': False, 'open_issues_count': 195, 'license': {'key': 'apache-2.0', 'name': 'Apache License 2.0', 'spdx_id': 'Apache-2.0', 'url': 'https://api.github.com/licenses/apache-2.0', 'node_id': 'MDc6TGljZW5zZTI='}, 'allow_forking': True, 'is_template': False, 'web_commit_signoff_required': False, 'topics': ['discord', 'discord-bot', 'java', 'jda', 'music', 'music-bot', 'musicbot', 'playlist', 'playlists', 'radio', 'soundcloud', 'youtube'], 'visibility': 'public', 'forks': 2361, 'open_issues': 195, 'watchers': 4668, 'default_branch': 'master', 'score': 1.0}\n",
            "<https://api.github.com/search/repositories?q=language%3Ajava+stars%3A%3E%3D50+forks%3A%3E%3D500&sort=stars&order=desc&per_page=1000&page=6>; rel=\"prev\"\n",
            "<https://api.github.com/search/repositories?q=language%3Ajava+stars%3A%3E%3D50+forks%3A%3E%3D500&sort=stars&order=desc&per_page=1000&page=8>; rel=\"next\"\n",
            "{'id': 51348290, 'node_id': 'MDEwOlJlcG9zaXRvcnk1MTM0ODI5MA==', 'name': 'java-learning', 'full_name': 'brianway/java-learning', 'private': False, 'owner': {'login': 'brianway', 'id': 5981249, 'node_id': 'MDQ6VXNlcjU5ODEyNDk=', 'avatar_url': 'https://avatars.githubusercontent.com/u/5981249?v=4', 'gravatar_id': '', 'url': 'https://api.github.com/users/brianway', 'html_url': 'https://github.com/brianway', 'followers_url': 'https://api.github.com/users/brianway/followers', 'following_url': 'https://api.github.com/users/brianway/following{/other_user}', 'gists_url': 'https://api.github.com/users/brianway/gists{/gist_id}', 'starred_url': 'https://api.github.com/users/brianway/starred{/owner}{/repo}', 'subscriptions_url': 'https://api.github.com/users/brianway/subscriptions', 'organizations_url': 'https://api.github.com/users/brianway/orgs', 'repos_url': 'https://api.github.com/users/brianway/repos', 'events_url': 'https://api.github.com/users/brianway/events{/privacy}', 'received_events_url': 'https://api.github.com/users/brianway/received_events', 'type': 'User', 'site_admin': False}, 'html_url': 'https://github.com/brianway/java-learning', 'description': '旨在打造在线最佳的 Java 学习笔记，含博客讲解和源码实例，包括 Java SE 和 Java Web', 'fork': False, 'url': 'https://api.github.com/repos/brianway/java-learning', 'forks_url': 'https://api.github.com/repos/brianway/java-learning/forks', 'keys_url': 'https://api.github.com/repos/brianway/java-learning/keys{/key_id}', 'collaborators_url': 'https://api.github.com/repos/brianway/java-learning/collaborators{/collaborator}', 'teams_url': 'https://api.github.com/repos/brianway/java-learning/teams', 'hooks_url': 'https://api.github.com/repos/brianway/java-learning/hooks', 'issue_events_url': 'https://api.github.com/repos/brianway/java-learning/issues/events{/number}', 'events_url': 'https://api.github.com/repos/brianway/java-learning/events', 'assignees_url': 'https://api.github.com/repos/brianway/java-learning/assignees{/user}', 'branches_url': 'https://api.github.com/repos/brianway/java-learning/branches{/branch}', 'tags_url': 'https://api.github.com/repos/brianway/java-learning/tags', 'blobs_url': 'https://api.github.com/repos/brianway/java-learning/git/blobs{/sha}', 'git_tags_url': 'https://api.github.com/repos/brianway/java-learning/git/tags{/sha}', 'git_refs_url': 'https://api.github.com/repos/brianway/java-learning/git/refs{/sha}', 'trees_url': 'https://api.github.com/repos/brianway/java-learning/git/trees{/sha}', 'statuses_url': 'https://api.github.com/repos/brianway/java-learning/statuses/{sha}', 'languages_url': 'https://api.github.com/repos/brianway/java-learning/languages', 'stargazers_url': 'https://api.github.com/repos/brianway/java-learning/stargazers', 'contributors_url': 'https://api.github.com/repos/brianway/java-learning/contributors', 'subscribers_url': 'https://api.github.com/repos/brianway/java-learning/subscribers', 'subscription_url': 'https://api.github.com/repos/brianway/java-learning/subscription', 'commits_url': 'https://api.github.com/repos/brianway/java-learning/commits{/sha}', 'git_commits_url': 'https://api.github.com/repos/brianway/java-learning/git/commits{/sha}', 'comments_url': 'https://api.github.com/repos/brianway/java-learning/comments{/number}', 'issue_comment_url': 'https://api.github.com/repos/brianway/java-learning/issues/comments{/number}', 'contents_url': 'https://api.github.com/repos/brianway/java-learning/contents/{+path}', 'compare_url': 'https://api.github.com/repos/brianway/java-learning/compare/{base}...{head}', 'merges_url': 'https://api.github.com/repos/brianway/java-learning/merges', 'archive_url': 'https://api.github.com/repos/brianway/java-learning/{archive_format}{/ref}', 'downloads_url': 'https://api.github.com/repos/brianway/java-learning/downloads', 'issues_url': 'https://api.github.com/repos/brianway/java-learning/issues{/number}', 'pulls_url': 'https://api.github.com/repos/brianway/java-learning/pulls{/number}', 'milestones_url': 'https://api.github.com/repos/brianway/java-learning/milestones{/number}', 'notifications_url': 'https://api.github.com/repos/brianway/java-learning/notifications{?since,all,participating}', 'labels_url': 'https://api.github.com/repos/brianway/java-learning/labels{/name}', 'releases_url': 'https://api.github.com/repos/brianway/java-learning/releases{/id}', 'deployments_url': 'https://api.github.com/repos/brianway/java-learning/deployments', 'created_at': '2016-02-09T05:20:58Z', 'updated_at': '2024-03-31T14:17:24Z', 'pushed_at': '2022-01-08T16:03:06Z', 'git_url': 'git://github.com/brianway/java-learning.git', 'ssh_url': 'git@github.com:brianway/java-learning.git', 'clone_url': 'https://github.com/brianway/java-learning.git', 'svn_url': 'https://github.com/brianway/java-learning', 'homepage': '', 'size': 800, 'stargazers_count': 4202, 'watchers_count': 4202, 'language': 'Java', 'has_issues': True, 'has_projects': True, 'has_downloads': True, 'has_wiki': True, 'has_pages': False, 'has_discussions': False, 'forks_count': 1212, 'mirror_url': None, 'archived': False, 'disabled': False, 'open_issues_count': 4, 'license': None, 'allow_forking': True, 'is_template': False, 'web_commit_signoff_required': False, 'topics': ['java'], 'visibility': 'public', 'forks': 1212, 'open_issues': 4, 'watchers': 4202, 'default_branch': 'master', 'score': 1.0}\n",
            "<https://api.github.com/search/repositories?q=language%3Ajava+stars%3A%3E%3D50+forks%3A%3E%3D500&sort=stars&order=desc&per_page=1000&page=7>; rel=\"prev\"\n",
            "<https://api.github.com/search/repositories?q=language%3Ajava+stars%3A%3E%3D50+forks%3A%3E%3D500&sort=stars&order=desc&per_page=1000&page=9>; rel=\"next\"\n",
            "{'id': 43158694, 'node_id': 'MDEwOlJlcG9zaXRvcnk0MzE1ODY5NA==', 'name': 'incubator-heron', 'full_name': 'apache/incubator-heron', 'private': False, 'owner': {'login': 'apache', 'id': 47359, 'node_id': 'MDEyOk9yZ2FuaXphdGlvbjQ3MzU5', 'avatar_url': 'https://avatars.githubusercontent.com/u/47359?v=4', 'gravatar_id': '', 'url': 'https://api.github.com/users/apache', 'html_url': 'https://github.com/apache', 'followers_url': 'https://api.github.com/users/apache/followers', 'following_url': 'https://api.github.com/users/apache/following{/other_user}', 'gists_url': 'https://api.github.com/users/apache/gists{/gist_id}', 'starred_url': 'https://api.github.com/users/apache/starred{/owner}{/repo}', 'subscriptions_url': 'https://api.github.com/users/apache/subscriptions', 'organizations_url': 'https://api.github.com/users/apache/orgs', 'repos_url': 'https://api.github.com/users/apache/repos', 'events_url': 'https://api.github.com/users/apache/events{/privacy}', 'received_events_url': 'https://api.github.com/users/apache/received_events', 'type': 'Organization', 'site_admin': False}, 'html_url': 'https://github.com/apache/incubator-heron', 'description': 'Apache Heron (Incubating) is a realtime, distributed, fault-tolerant stream processing engine from Twitter', 'fork': False, 'url': 'https://api.github.com/repos/apache/incubator-heron', 'forks_url': 'https://api.github.com/repos/apache/incubator-heron/forks', 'keys_url': 'https://api.github.com/repos/apache/incubator-heron/keys{/key_id}', 'collaborators_url': 'https://api.github.com/repos/apache/incubator-heron/collaborators{/collaborator}', 'teams_url': 'https://api.github.com/repos/apache/incubator-heron/teams', 'hooks_url': 'https://api.github.com/repos/apache/incubator-heron/hooks', 'issue_events_url': 'https://api.github.com/repos/apache/incubator-heron/issues/events{/number}', 'events_url': 'https://api.github.com/repos/apache/incubator-heron/events', 'assignees_url': 'https://api.github.com/repos/apache/incubator-heron/assignees{/user}', 'branches_url': 'https://api.github.com/repos/apache/incubator-heron/branches{/branch}', 'tags_url': 'https://api.github.com/repos/apache/incubator-heron/tags', 'blobs_url': 'https://api.github.com/repos/apache/incubator-heron/git/blobs{/sha}', 'git_tags_url': 'https://api.github.com/repos/apache/incubator-heron/git/tags{/sha}', 'git_refs_url': 'https://api.github.com/repos/apache/incubator-heron/git/refs{/sha}', 'trees_url': 'https://api.github.com/repos/apache/incubator-heron/git/trees{/sha}', 'statuses_url': 'https://api.github.com/repos/apache/incubator-heron/statuses/{sha}', 'languages_url': 'https://api.github.com/repos/apache/incubator-heron/languages', 'stargazers_url': 'https://api.github.com/repos/apache/incubator-heron/stargazers', 'contributors_url': 'https://api.github.com/repos/apache/incubator-heron/contributors', 'subscribers_url': 'https://api.github.com/repos/apache/incubator-heron/subscribers', 'subscription_url': 'https://api.github.com/repos/apache/incubator-heron/subscription', 'commits_url': 'https://api.github.com/repos/apache/incubator-heron/commits{/sha}', 'git_commits_url': 'https://api.github.com/repos/apache/incubator-heron/git/commits{/sha}', 'comments_url': 'https://api.github.com/repos/apache/incubator-heron/comments{/number}', 'issue_comment_url': 'https://api.github.com/repos/apache/incubator-heron/issues/comments{/number}', 'contents_url': 'https://api.github.com/repos/apache/incubator-heron/contents/{+path}', 'compare_url': 'https://api.github.com/repos/apache/incubator-heron/compare/{base}...{head}', 'merges_url': 'https://api.github.com/repos/apache/incubator-heron/merges', 'archive_url': 'https://api.github.com/repos/apache/incubator-heron/{archive_format}{/ref}', 'downloads_url': 'https://api.github.com/repos/apache/incubator-heron/downloads', 'issues_url': 'https://api.github.com/repos/apache/incubator-heron/issues{/number}', 'pulls_url': 'https://api.github.com/repos/apache/incubator-heron/pulls{/number}', 'milestones_url': 'https://api.github.com/repos/apache/incubator-heron/milestones{/number}', 'notifications_url': 'https://api.github.com/repos/apache/incubator-heron/notifications{?since,all,participating}', 'labels_url': 'https://api.github.com/repos/apache/incubator-heron/labels{/name}', 'releases_url': 'https://api.github.com/repos/apache/incubator-heron/releases{/id}', 'deployments_url': 'https://api.github.com/repos/apache/incubator-heron/deployments', 'created_at': '2015-09-25T16:09:24Z', 'updated_at': '2024-03-31T14:16:45Z', 'pushed_at': '2023-03-01T15:11:08Z', 'git_url': 'git://github.com/apache/incubator-heron.git', 'ssh_url': 'git@github.com:apache/incubator-heron.git', 'clone_url': 'https://github.com/apache/incubator-heron.git', 'svn_url': 'https://github.com/apache/incubator-heron', 'homepage': 'https://heron.apache.org/', 'size': 183934, 'stargazers_count': 3637, 'watchers_count': 3637, 'language': 'Java', 'has_issues': True, 'has_projects': True, 'has_downloads': True, 'has_wiki': True, 'has_pages': True, 'has_discussions': False, 'forks_count': 603, 'mirror_url': None, 'archived': True, 'disabled': False, 'open_issues_count': 410, 'license': {'key': 'apache-2.0', 'name': 'Apache License 2.0', 'spdx_id': 'Apache-2.0', 'url': 'https://api.github.com/licenses/apache-2.0', 'node_id': 'MDc6TGljZW5zZTI='}, 'allow_forking': True, 'is_template': False, 'web_commit_signoff_required': False, 'topics': ['heron', 'messaging', 'streaming'], 'visibility': 'public', 'forks': 603, 'open_issues': 410, 'watchers': 3637, 'default_branch': 'master', 'score': 1.0}\n",
            "<https://api.github.com/search/repositories?q=language%3Ajava+stars%3A%3E%3D50+forks%3A%3E%3D500&sort=stars&order=desc&per_page=1000&page=8>; rel=\"prev\"\n",
            "<https://api.github.com/search/repositories?q=language%3Ajava+stars%3A%3E%3D50+forks%3A%3E%3D500&sort=stars&order=desc&per_page=1000&page=10>; rel=\"next\"\n",
            "{'id': 22756550, 'node_id': 'MDEwOlJlcG9zaXRvcnkyMjc1NjU1MA==', 'name': 'AndroidViewHover', 'full_name': 'daimajia/AndroidViewHover', 'private': False, 'owner': {'login': 'daimajia', 'id': 2503423, 'node_id': 'MDQ6VXNlcjI1MDM0MjM=', 'avatar_url': 'https://avatars.githubusercontent.com/u/2503423?v=4', 'gravatar_id': '', 'url': 'https://api.github.com/users/daimajia', 'html_url': 'https://github.com/daimajia', 'followers_url': 'https://api.github.com/users/daimajia/followers', 'following_url': 'https://api.github.com/users/daimajia/following{/other_user}', 'gists_url': 'https://api.github.com/users/daimajia/gists{/gist_id}', 'starred_url': 'https://api.github.com/users/daimajia/starred{/owner}{/repo}', 'subscriptions_url': 'https://api.github.com/users/daimajia/subscriptions', 'organizations_url': 'https://api.github.com/users/daimajia/orgs', 'repos_url': 'https://api.github.com/users/daimajia/repos', 'events_url': 'https://api.github.com/users/daimajia/events{/privacy}', 'received_events_url': 'https://api.github.com/users/daimajia/received_events', 'type': 'User', 'site_admin': False}, 'html_url': 'https://github.com/daimajia/AndroidViewHover', 'description': 'An elegant way to show your menu or messages.', 'fork': False, 'url': 'https://api.github.com/repos/daimajia/AndroidViewHover', 'forks_url': 'https://api.github.com/repos/daimajia/AndroidViewHover/forks', 'keys_url': 'https://api.github.com/repos/daimajia/AndroidViewHover/keys{/key_id}', 'collaborators_url': 'https://api.github.com/repos/daimajia/AndroidViewHover/collaborators{/collaborator}', 'teams_url': 'https://api.github.com/repos/daimajia/AndroidViewHover/teams', 'hooks_url': 'https://api.github.com/repos/daimajia/AndroidViewHover/hooks', 'issue_events_url': 'https://api.github.com/repos/daimajia/AndroidViewHover/issues/events{/number}', 'events_url': 'https://api.github.com/repos/daimajia/AndroidViewHover/events', 'assignees_url': 'https://api.github.com/repos/daimajia/AndroidViewHover/assignees{/user}', 'branches_url': 'https://api.github.com/repos/daimajia/AndroidViewHover/branches{/branch}', 'tags_url': 'https://api.github.com/repos/daimajia/AndroidViewHover/tags', 'blobs_url': 'https://api.github.com/repos/daimajia/AndroidViewHover/git/blobs{/sha}', 'git_tags_url': 'https://api.github.com/repos/daimajia/AndroidViewHover/git/tags{/sha}', 'git_refs_url': 'https://api.github.com/repos/daimajia/AndroidViewHover/git/refs{/sha}', 'trees_url': 'https://api.github.com/repos/daimajia/AndroidViewHover/git/trees{/sha}', 'statuses_url': 'https://api.github.com/repos/daimajia/AndroidViewHover/statuses/{sha}', 'languages_url': 'https://api.github.com/repos/daimajia/AndroidViewHover/languages', 'stargazers_url': 'https://api.github.com/repos/daimajia/AndroidViewHover/stargazers', 'contributors_url': 'https://api.github.com/repos/daimajia/AndroidViewHover/contributors', 'subscribers_url': 'https://api.github.com/repos/daimajia/AndroidViewHover/subscribers', 'subscription_url': 'https://api.github.com/repos/daimajia/AndroidViewHover/subscription', 'commits_url': 'https://api.github.com/repos/daimajia/AndroidViewHover/commits{/sha}', 'git_commits_url': 'https://api.github.com/repos/daimajia/AndroidViewHover/git/commits{/sha}', 'comments_url': 'https://api.github.com/repos/daimajia/AndroidViewHover/comments{/number}', 'issue_comment_url': 'https://api.github.com/repos/daimajia/AndroidViewHover/issues/comments{/number}', 'contents_url': 'https://api.github.com/repos/daimajia/AndroidViewHover/contents/{+path}', 'compare_url': 'https://api.github.com/repos/daimajia/AndroidViewHover/compare/{base}...{head}', 'merges_url': 'https://api.github.com/repos/daimajia/AndroidViewHover/merges', 'archive_url': 'https://api.github.com/repos/daimajia/AndroidViewHover/{archive_format}{/ref}', 'downloads_url': 'https://api.github.com/repos/daimajia/AndroidViewHover/downloads', 'issues_url': 'https://api.github.com/repos/daimajia/AndroidViewHover/issues{/number}', 'pulls_url': 'https://api.github.com/repos/daimajia/AndroidViewHover/pulls{/number}', 'milestones_url': 'https://api.github.com/repos/daimajia/AndroidViewHover/milestones{/number}', 'notifications_url': 'https://api.github.com/repos/daimajia/AndroidViewHover/notifications{?since,all,participating}', 'labels_url': 'https://api.github.com/repos/daimajia/AndroidViewHover/labels{/name}', 'releases_url': 'https://api.github.com/repos/daimajia/AndroidViewHover/releases{/id}', 'deployments_url': 'https://api.github.com/repos/daimajia/AndroidViewHover/deployments', 'created_at': '2014-08-08T12:04:43Z', 'updated_at': '2024-03-31T14:15:05Z', 'pushed_at': '2023-05-28T15:13:11Z', 'git_url': 'git://github.com/daimajia/AndroidViewHover.git', 'ssh_url': 'git@github.com:daimajia/AndroidViewHover.git', 'clone_url': 'https://github.com/daimajia/AndroidViewHover.git', 'svn_url': 'https://github.com/daimajia/AndroidViewHover', 'homepage': '', 'size': 7103, 'stargazers_count': 3207, 'watchers_count': 3207, 'language': 'Java', 'has_issues': True, 'has_projects': True, 'has_downloads': True, 'has_wiki': True, 'has_pages': False, 'has_discussions': False, 'forks_count': 724, 'mirror_url': None, 'archived': False, 'disabled': False, 'open_issues_count': 19, 'license': None, 'allow_forking': True, 'is_template': False, 'web_commit_signoff_required': False, 'topics': [], 'visibility': 'public', 'forks': 724, 'open_issues': 19, 'watchers': 3207, 'default_branch': 'master', 'score': 1.0}\n",
            "<https://api.github.com/search/repositories?q=language%3Ajava+stars%3A%3E%3D50+forks%3A%3E%3D500&sort=stars&order=desc&per_page=1000&page=9>; rel=\"prev\"\n",
            "<https://api.github.com/search/repositories?q=language%3Ajava+stars%3A%3E%3D50+forks%3A%3E%3D500&sort=stars&order=desc&per_page=1000&page=1>; rel=\"first\"\n"
          ]
        }
      ],
      "source": [
        "repositories = data_download.fetch_java_repositories(50, 500)\n",
        "data_download.write_to_csv(repositories, FILE_PATH)"
      ]
    },
    {
      "cell_type": "code",
      "execution_count": 3,
      "metadata": {
        "id": "pADltSILkgj_",
        "outputId": "b7fcac1e-4e33-4991-faea-0ed3b5c154cd"
      },
      "outputs": [
        {
          "name": "stderr",
          "output_type": "stream",
          "text": [
            "c:\\Python39\\lib\\site-packages\\urllib3\\connectionpool.py:1045: InsecureRequestWarning: Unverified HTTPS request is being made to host 'seart-ghs.si.usi.ch'. Adding certificate verification is strongly advised. See: https://urllib3.readthedocs.io/en/1.26.x/advanced-usage.html#ssl-warnings\n",
            "  warnings.warn(\n"
          ]
        },
        {
          "name": "stdout",
          "output_type": "stream",
          "text": [
            "True\n"
          ]
        }
      ],
      "source": [
        "# response = data_download.download_data_file_from_seart('csv',nameEquals=False,language=\"Java\",commitsMin=500,starsMin=50)\n",
        "\n",
        "# print(response)"
      ]
    },
    {
      "cell_type": "markdown",
      "metadata": {},
      "source": [
        "##### This step can take some time, in order to generate the data, you can define the repo size or range to fasten the process"
      ]
    },
    {
      "cell_type": "code",
      "execution_count": 5,
      "metadata": {
        "id": "VXh2Vj3vIGaV",
        "outputId": "ab5fd716-ad3a-4e33-ecc7-fbd29f5f89cf"
      },
      "outputs": [
        {
          "name": "stdout",
          "output_type": "stream",
          "text": [
            "existing_non_repos {'elasticsearch', 'apollo', 'interviews', 'hutool', 'leetcode', 'Stirling-Tools/Stirling-PDF', 'LeetCodeAnimation', 'dbeaver', 'google/gson', 'fastjson', 'canal', 'Java', 'lottie-android', 'libgdx/libgdx', 'spring-boot', 'advanced-java', 'spring-cloud-alibaba', 'didi/DoKit', 'spring-framework', 'ghidra', 'jeecg-boot', 'arthas', 'hello-algorithm', 'mall', 'alibaba/Sentinel', 'java-design-patterns', 'guava', 'NewPipe', 'kafka', 'glide', 'selenium', 'spring-boot-examples', 'JavaGuide', 'vhr', 'nacos', 'jenkinsci/jenkins', 'ReactiveX/RxAndroid', 'MPAndroidChart', 'druid', 'miaosha', 'easyexcel', 'SpringAll', 'jadx', 'xxl-job', 'termux-app', 'tutorials', 'butterknife', 'hello-algo', 'JCSprout', 'dubbo', 'RxJava', 'elunez/eladmin', 'redisson/redisson', 'GitHub-Chinese-Top-Charts'}\n",
            "iluwatar/java-design-patterns: added (1 SHA IDs)\n",
            "spring-projects/spring-boot: added (4 SHA IDs)\n",
            "elastic/elasticsearch: added (4 SHA IDs)\n",
            "Repositories with magic numbers written to data\\repos_with_commit_test.csv\n",
            "Repositories with magic numbers written to data\\repos_without_commit_test.csv\n",
            "CSV file updated\n"
          ]
        }
      ],
      "source": [
        "magic_number_keywords = ['magic number']\n",
        "repos = download.get_repo_names_from_csv(FILE_PATH)\n",
        "repo_with_commits = download.get_repos_with_magic_number(repos, magic_number_keywords, repos_with_commit, repos_without_commit)"
      ]
    },
    {
      "cell_type": "markdown",
      "metadata": {},
      "source": [
        "###  This script will fetch the files from the github where the commit message contains \"Magic number\" in it. This might fail in some cases due to the github api issue."
      ]
    },
    {
      "cell_type": "code",
      "execution_count": 3,
      "metadata": {},
      "outputs": [
        {
          "name": "stdout",
          "output_type": "stream",
          "text": [
            "preparing the dataset for the repo apache/flink\n",
            "file count is:  1\n",
            "url is https://api.github.com/repos/apache/flink/contents/flink-runtime/src/test/java/org/apache/flink/runtime/scheduler/adaptive/AdaptiveSchedulerTest.java?ref=6c4c6c89fcd66d87a89414f0b6bb2a1d308e13a4\n",
            "<re.Match object; span=(7662, 7704), match='private static final int PARALLELISM = 4;\\n'>\n",
            "file count is:  1\n",
            "file count is:  1\n",
            "url is https://api.github.com/repos/apache/flink/contents/flink-queryable-state/flink-queryable-state-client-java/src/main/java/org/apache/flink/queryablestate/client/state/serialization/KvStateSerializer.java?ref=e6a318c420aceecfa86810db4c280fcb6bcd5a8b\n",
            "<re.Match object; span=(1446, 1490), match='private static final int MAGIC_NUMBER = 42;\\n'>\n",
            "file count is:  2\n",
            "url is https://api.github.com/repos/apache/flink/contents/flink-tests/src/test/java/org/apache/flink/test/checkpointing/UnalignedCheckpointITCase.java?ref=29abccd4cb7d4905fa168f8d7b68a113e9640fca\n",
            "url is https://api.github.com/repos/apache/flink/contents/flink-tests/src/test/java/org/apache/flink/test/checkpointing/UnalignedCheckpointTestBase.java?ref=29abccd4cb7d4905fa168f8d7b68a113e9640fca\n",
            "<re.Match object; span=(4922, 4973), match='protected static final int BUFFER_PER_CHANNEL = 1>\n",
            "file count is:  49\n",
            "url is https://api.github.com/repos/apache/flink/contents/flink-core/src/main/java/org/apache/flink/util/SerializedValue.java?ref=f0ac261add2eb184358d5b89bc90b13aef7b267d\n",
            "<re.Match object; span=(1672, 1740), match='private static final long serialVersionUID = -356>\n",
            "url is https://api.github.com/repos/apache/flink/contents/flink-runtime/src/main/java/org/apache/flink/runtime/checkpoint/CheckpointCoordinator.java?ref=f0ac261add2eb184358d5b89bc90b13aef7b267d\n",
            "<re.Match object; span=(3326, 3382), match='private static final int NUM_GHOST_CHECKPOINT_IDS>\n",
            "url is https://api.github.com/repos/apache/flink/contents/flink-runtime/src/main/java/org/apache/flink/runtime/checkpoint/CheckpointRecoveryFactory.java?ref=f0ac261add2eb184358d5b89bc90b13aef7b267d\n",
            "url is https://api.github.com/repos/apache/flink/contents/flink-runtime/src/main/java/org/apache/flink/runtime/checkpoint/CompletedCheckpoint.java?ref=f0ac261add2eb184358d5b89bc90b13aef7b267d\n",
            "<re.Match object; span=(1288, 1356), match='private static final long serialVersionUID = -836>\n",
            "url is https://api.github.com/repos/apache/flink/contents/flink-runtime/src/main/java/org/apache/flink/runtime/checkpoint/FileSystemStateStore.java?ref=f0ac261add2eb184358d5b89bc90b13aef7b267d\n",
            "{\"message\":\"Not Found\",\"documentation_url\":\"https://docs.github.com/rest/repos/contents#get-repository-content\"}\n",
            "url is https://api.github.com/repos/apache/flink/contents/flink-runtime/src/main/java/org/apache/flink/runtime/checkpoint/HeapStateStore.java?ref=f0ac261add2eb184358d5b89bc90b13aef7b267d\n",
            "{\"message\":\"Not Found\",\"documentation_url\":\"https://docs.github.com/rest/repos/contents#get-repository-content\"}\n",
            "url is https://api.github.com/repos/apache/flink/contents/flink-runtime/src/main/java/org/apache/flink/runtime/checkpoint/PendingCheckpoint.java?ref=f0ac261add2eb184358d5b89bc90b13aef7b267d\n",
            "url is https://api.github.com/repos/apache/flink/contents/flink-runtime/src/main/java/org/apache/flink/runtime/checkpoint/SavepointStore.java?ref=f0ac261add2eb184358d5b89bc90b13aef7b267d\n",
            "{\"message\":\"Not Found\",\"documentation_url\":\"https://docs.github.com/rest/repos/contents#get-repository-content\"}\n",
            "url is https://api.github.com/repos/apache/flink/contents/flink-runtime/src/main/java/org/apache/flink/runtime/checkpoint/StandaloneCheckpointRecoveryFactory.java?ref=f0ac261add2eb184358d5b89bc90b13aef7b267d\n",
            "url is https://api.github.com/repos/apache/flink/contents/flink-runtime/src/main/java/org/apache/flink/runtime/checkpoint/StateStore.java?ref=f0ac261add2eb184358d5b89bc90b13aef7b267d\n",
            "{\"message\":\"Not Found\",\"documentation_url\":\"https://docs.github.com/rest/repos/contents#get-repository-content\"}\n",
            "url is https://api.github.com/repos/apache/flink/contents/flink-runtime/src/main/java/org/apache/flink/runtime/checkpoint/SubtaskState.java?ref=f0ac261add2eb184358d5b89bc90b13aef7b267d\n",
            "<re.Match object; span=(1574, 1642), match='private static final long serialVersionUID = -239>\n",
            "url is https://api.github.com/repos/apache/flink/contents/flink-runtime/src/main/java/org/apache/flink/runtime/checkpoint/ZooKeeperCheckpointRecoveryFactory.java?ref=f0ac261add2eb184358d5b89bc90b13aef7b267d\n",
            "url is https://api.github.com/repos/apache/flink/contents/flink-runtime/src/main/java/org/apache/flink/runtime/checkpoint/savepoint/FsSavepointStore.java?ref=f0ac261add2eb184358d5b89bc90b13aef7b267d\n",
            "url is https://api.github.com/repos/apache/flink/contents/flink-runtime/src/main/java/org/apache/flink/runtime/checkpoint/savepoint/HeapSavepointStore.java?ref=f0ac261add2eb184358d5b89bc90b13aef7b267d\n",
            "url is https://api.github.com/repos/apache/flink/contents/flink-runtime/src/main/java/org/apache/flink/runtime/checkpoint/savepoint/Savepoint.java?ref=f0ac261add2eb184358d5b89bc90b13aef7b267d\n",
            "url is https://api.github.com/repos/apache/flink/contents/flink-runtime/src/main/java/org/apache/flink/runtime/checkpoint/savepoint/SavepointCoordinator.java?ref=f0ac261add2eb184358d5b89bc90b13aef7b267d\n",
            "url is https://api.github.com/repos/apache/flink/contents/flink-runtime/src/main/java/org/apache/flink/runtime/checkpoint/savepoint/SavepointCoordinatorDeActivator.java?ref=f0ac261add2eb184358d5b89bc90b13aef7b267d\n",
            "url is https://api.github.com/repos/apache/flink/contents/flink-runtime/src/main/java/org/apache/flink/runtime/checkpoint/savepoint/SavepointSerializer.java?ref=f0ac261add2eb184358d5b89bc90b13aef7b267d\n",
            "url is https://api.github.com/repos/apache/flink/contents/flink-runtime/src/main/java/org/apache/flink/runtime/checkpoint/savepoint/SavepointSerializers.java?ref=f0ac261add2eb184358d5b89bc90b13aef7b267d\n",
            "url is https://api.github.com/repos/apache/flink/contents/flink-runtime/src/main/java/org/apache/flink/runtime/checkpoint/savepoint/SavepointStore.java?ref=f0ac261add2eb184358d5b89bc90b13aef7b267d\n",
            "url is https://api.github.com/repos/apache/flink/contents/flink-runtime/src/main/java/org/apache/flink/runtime/checkpoint/savepoint/SavepointStoreFactory.java?ref=f0ac261add2eb184358d5b89bc90b13aef7b267d\n",
            "url is https://api.github.com/repos/apache/flink/contents/flink-runtime/src/main/java/org/apache/flink/runtime/checkpoint/savepoint/SavepointV0.java?ref=f0ac261add2eb184358d5b89bc90b13aef7b267d\n",
            "<re.Match object; span=(1159, 1196), match='public static final int VERSION = 0;\\n'>\n",
            "url is https://api.github.com/repos/apache/flink/contents/flink-runtime/src/main/java/org/apache/flink/runtime/checkpoint/savepoint/SavepointV1Serializer.java?ref=f0ac261add2eb184358d5b89bc90b13aef7b267d\n",
            "url is https://api.github.com/repos/apache/flink/contents/flink-runtime/src/main/java/org/apache/flink/runtime/executiongraph/ExecutionGraph.java?ref=f0ac261add2eb184358d5b89bc90b13aef7b267d\n",
            "<re.Match object; span=(5955, 6005), match='private static final long serialVersionUID = 42L;>\n",
            "url is https://api.github.com/repos/apache/flink/contents/flink-runtime/src/main/java/org/apache/flink/runtime/jobgraph/JobVertexID.java?ref=f0ac261add2eb184358d5b89bc90b13aef7b267d\n",
            "<re.Match object; span=(1044, 1093), match='private static final long serialVersionUID = 1L;\\>\n",
            "url is https://api.github.com/repos/apache/flink/contents/flink-runtime/src/main/java/org/apache/flink/runtime/util/ZooKeeperUtils.java?ref=f0ac261add2eb184358d5b89bc90b13aef7b267d\n",
            "dataset prepared for the repo apache/flink\n",
            "preparing the dataset for the repo bazelbuild/bazel\n",
            "file count is:  3\n",
            "url is https://api.github.com/repos/bazelbuild/bazel/contents/src/main/java/com/google/devtools/build/lib/runtime/LoadingPhaseThreadsOption.java?ref=ac880418885061d1039ad6b3d8c28949782e02d6\n",
            "file count is:  8\n",
            "file count is:  3\n",
            "url is https://api.github.com/repos/bazelbuild/bazel/contents/src/main/java/com/google/devtools/build/lib/actions/LocalHostCapacity.java?ref=222b03cd7562e8c44f07e6decd900a4d52b4f95f\n",
            "url is https://api.github.com/repos/bazelbuild/bazel/contents/src/main/java/com/google/devtools/build/lib/buildtool/BuildRequest.java?ref=222b03cd7562e8c44f07e6decd900a4d52b4f95f\n",
            "<re.Match object; span=(13216, 13257), match='public static final int MAX_JOBS = 2000;\\n'>\n",
            "file count is:  24\n",
            "url is https://api.github.com/repos/bazelbuild/bazel/contents/src/main/java/com/google/devtools/build/lib/sandbox/LinuxSandboxRunner.java?ref=e219a24a30960ab5c686dd09197b5e22626e1fe0\n",
            "url is https://api.github.com/repos/bazelbuild/bazel/contents/src/main/java/com/google/devtools/build/lib/sandbox/LinuxSandboxedStrategy.java?ref=e219a24a30960ab5c686dd09197b5e22626e1fe0\n",
            "url is https://api.github.com/repos/bazelbuild/bazel/contents/src/main/java/com/google/devtools/build/lib/sandbox/MountMap.java?ref=e219a24a30960ab5c686dd09197b5e22626e1fe0\n",
            "{\"message\":\"Not Found\",\"documentation_url\":\"https://docs.github.com/rest/repos/contents#get-repository-content\"}\n",
            "url is https://api.github.com/repos/bazelbuild/bazel/contents/src/main/java/com/google/devtools/build/lib/sandbox/SandboxActionContextConsumer.java?ref=e219a24a30960ab5c686dd09197b5e22626e1fe0\n",
            "url is https://api.github.com/repos/bazelbuild/bazel/contents/src/main/java/com/google/devtools/build/lib/sandbox/SandboxActionContextProvider.java?ref=e219a24a30960ab5c686dd09197b5e22626e1fe0\n",
            "url is https://api.github.com/repos/bazelbuild/bazel/contents/src/main/java/com/google/devtools/build/lib/sandbox/SandboxModule.java?ref=e219a24a30960ab5c686dd09197b5e22626e1fe0\n",
            "url is https://api.github.com/repos/bazelbuild/bazel/contents/src/main/java/com/google/devtools/build/lib/sandbox/SandboxOptions.java?ref=e219a24a30960ab5c686dd09197b5e22626e1fe0\n",
            "url is https://api.github.com/repos/bazelbuild/bazel/contents/src/main/java/com/google/devtools/build/lib/vfs/FileSystemUtils.java?ref=e219a24a30960ab5c686dd09197b5e22626e1fe0\n",
            "url is https://api.github.com/repos/bazelbuild/bazel/contents/src/test/java/com/google/devtools/build/lib/sandbox/LinuxSandboxedStrategyTest.java?ref=e219a24a30960ab5c686dd09197b5e22626e1fe0\n",
            "url is https://api.github.com/repos/bazelbuild/bazel/contents/src/test/java/com/google/devtools/build/lib/sandbox/LinuxSandboxedStrategyTestCase.java?ref=e219a24a30960ab5c686dd09197b5e22626e1fe0\n",
            "url is https://api.github.com/repos/bazelbuild/bazel/contents/src/test/java/com/google/devtools/build/lib/sandbox/MountMapTest.java?ref=e219a24a30960ab5c686dd09197b5e22626e1fe0\n",
            "{\"message\":\"Not Found\",\"documentation_url\":\"https://docs.github.com/rest/repos/contents#get-repository-content\"}\n",
            "url is https://api.github.com/repos/bazelbuild/bazel/contents/src/test/java/com/google/devtools/build/lib/unix/NativePosixFilesTest.java?ref=e219a24a30960ab5c686dd09197b5e22626e1fe0\n",
            "dataset prepared for the repo bazelbuild/bazel\n",
            "preparing the dataset for the repo google/ExoPlayer\n",
            "file count is:  6\n",
            "url is https://api.github.com/repos/google/ExoPlayer/contents/library/core/src/main/java/com/google/android/exoplayer2/source/UnexpectedDiscontinuityException.java?ref=e690979d92e05e90ed8971e9bf733a7ec97e5245\n",
            "url is https://api.github.com/repos/google/ExoPlayer/contents/library/core/src/main/java/com/google/android/exoplayer2/source/UnreportedDiscontinuityException.java?ref=e690979d92e05e90ed8971e9bf733a7ec97e5245\n",
            "{\"message\":\"Not Found\",\"documentation_url\":\"https://docs.github.com/rest/repos/contents#get-repository-content\"}\n",
            "url is https://api.github.com/repos/google/ExoPlayer/contents/library/hls/src/main/java/com/google/android/exoplayer2/source/hls/HlsCheckedSampleQueue.java?ref=e690979d92e05e90ed8971e9bf733a7ec97e5245\n",
            "{\"message\":\"Not Found\",\"documentation_url\":\"https://docs.github.com/rest/repos/contents#get-repository-content\"}\n",
            "url is https://api.github.com/repos/google/ExoPlayer/contents/library/hls/src/main/java/com/google/android/exoplayer2/source/hls/HlsMediaChunk.java?ref=e690979d92e05e90ed8971e9bf733a7ec97e5245\n",
            "url is https://api.github.com/repos/google/ExoPlayer/contents/library/hls/src/main/java/com/google/android/exoplayer2/source/hls/HlsSampleQueue.java?ref=e690979d92e05e90ed8971e9bf733a7ec97e5245\n",
            "url is https://api.github.com/repos/google/ExoPlayer/contents/library/hls/src/main/java/com/google/android/exoplayer2/source/hls/HlsSampleStreamWrapper.java?ref=e690979d92e05e90ed8971e9bf733a7ec97e5245\n",
            "<re.Match object; span=(4621, 4678), match='public static final int SAMPLE_QUEUE_INDEX_PENDIN>\n",
            "file count is:  1\n",
            "url is https://api.github.com/repos/google/ExoPlayer/contents/library/src/main/java/com/google/android/exoplayer/text/webvtt/WebvttParser.java?ref=a1ab1fc2a2b7562f699d5af6a89e78ad8fae74e7\n",
            "<re.Match object; span=(1449, 1495), match='private static final long SAMPLING_RATE = 90;\\n'>\n",
            "dataset prepared for the repo google/ExoPlayer\n",
            "preparing the dataset for the repo Anuken/Mindustry\n",
            "file count is:  1\n",
            "url is https://api.github.com/repos/Anuken/Mindustry/contents/core/src/mindustry/input/InputHandler.java?ref=32a1d91faf502bcfbfc171a16327f1d49fda3a2c\n",
            "dataset prepared for the repo Anuken/Mindustry\n",
            "preparing the dataset for the repo apache/rocketmq\n",
            "file count is:  1\n",
            "url is https://api.github.com/repos/apache/rocketmq/contents/remoting/src/main/java/org/apache/rocketmq/remoting/protocol/body/RegisterBrokerBody.java?ref=bf1131113596582b76d0e3172c2de544a54cf2c7\n",
            "<re.Match object; span=(2161, 2223), match='private static final long MINIMUM_TAKE_TIME_MILLI>\n",
            "file count is:  35\n",
            "url is https://api.github.com/repos/apache/rocketmq/contents/broker/src/main/java/org/apache/rocketmq/broker/processor/AbstractSendMessageProcessor.java?ref=b6307dfce1c201877f7a27691cad74b842c0d971\n",
            "url is https://api.github.com/repos/apache/rocketmq/contents/broker/src/main/java/org/apache/rocketmq/broker/processor/AdminBrokerProcessor.java?ref=b6307dfce1c201877f7a27691cad74b842c0d971\n",
            "url is https://api.github.com/repos/apache/rocketmq/contents/broker/src/main/java/org/apache/rocketmq/broker/processor/PullMessageProcessor.java?ref=b6307dfce1c201877f7a27691cad74b842c0d971\n",
            "url is https://api.github.com/repos/apache/rocketmq/contents/broker/src/main/java/org/apache/rocketmq/broker/topic/TopicConfigManager.java?ref=b6307dfce1c201877f7a27691cad74b842c0d971\n",
            "<re.Match object; span=(2090, 2144), match='private static final long LOCK_TIMEOUT_MILLIS = 3>\n",
            "url is https://api.github.com/repos/apache/rocketmq/contents/broker/src/main/java/org/apache/rocketmq/broker/topic/TopicValidator.java?ref=b6307dfce1c201877f7a27691cad74b842c0d971\n",
            "{\"message\":\"Not Found\",\"documentation_url\":\"https://docs.github.com/rest/repos/contents#get-repository-content\"}\n",
            "url is https://api.github.com/repos/apache/rocketmq/contents/broker/src/main/java/org/apache/rocketmq/broker/transaction/queue/TransactionalMessageServiceImpl.java?ref=b6307dfce1c201877f7a27691cad74b842c0d971\n",
            "<re.Match object; span=(2396, 2448), match='private static final int PULL_MSG_RETRY_NUMBER = >\n",
            "url is https://api.github.com/repos/apache/rocketmq/contents/broker/src/main/java/org/apache/rocketmq/broker/transaction/queue/TransactionalMessageUtil.java?ref=b6307dfce1c201877f7a27691cad74b842c0d971\n",
            "url is https://api.github.com/repos/apache/rocketmq/contents/broker/src/test/java/org/apache/rocketmq/broker/processor/AdminBrokerProcessorTest.java?ref=b6307dfce1c201877f7a27691cad74b842c0d971\n",
            "url is https://api.github.com/repos/apache/rocketmq/contents/broker/src/test/java/org/apache/rocketmq/broker/processor/ReplyMessageProcessorTest.java?ref=b6307dfce1c201877f7a27691cad74b842c0d971\n",
            "url is https://api.github.com/repos/apache/rocketmq/contents/broker/src/test/java/org/apache/rocketmq/broker/processor/SendMessageProcessorTest.java?ref=b6307dfce1c201877f7a27691cad74b842c0d971\n",
            "url is https://api.github.com/repos/apache/rocketmq/contents/broker/src/test/java/org/apache/rocketmq/broker/transaction/queue/DefaultTransactionalMessageCheckListenerTest.java?ref=b6307dfce1c201877f7a27691cad74b842c0d971\n",
            "url is https://api.github.com/repos/apache/rocketmq/contents/broker/src/test/java/org/apache/rocketmq/broker/transaction/queue/TransactionalMessageBridgeTest.java?ref=b6307dfce1c201877f7a27691cad74b842c0d971\n",
            "url is https://api.github.com/repos/apache/rocketmq/contents/broker/src/test/java/org/apache/rocketmq/broker/transaction/queue/TransactionalMessageServiceImplTest.java?ref=b6307dfce1c201877f7a27691cad74b842c0d971\n",
            "url is https://api.github.com/repos/apache/rocketmq/contents/client/src/main/java/org/apache/rocketmq/client/Validators.java?ref=b6307dfce1c201877f7a27691cad74b842c0d971\n",
            "<re.Match object; span=(1446, 1498), match='public static final int CHARACTER_MAX_LENGTH = 25>\n",
            "url is https://api.github.com/repos/apache/rocketmq/contents/client/src/main/java/org/apache/rocketmq/client/impl/MQAdminImpl.java?ref=b6307dfce1c201877f7a27691cad74b842c0d971\n",
            "url is https://api.github.com/repos/apache/rocketmq/contents/client/src/main/java/org/apache/rocketmq/client/impl/MQClientAPIImpl.java?ref=b6307dfce1c201877f7a27691cad74b842c0d971\n",
            "url is https://api.github.com/repos/apache/rocketmq/contents/client/src/main/java/org/apache/rocketmq/client/impl/factory/MQClientInstance.java?ref=b6307dfce1c201877f7a27691cad74b842c0d971\n",
            "<re.Match object; span=(4621, 4684), match='private final long bootTimestamp = System.current>\n",
            "url is https://api.github.com/repos/apache/rocketmq/contents/client/src/main/java/org/apache/rocketmq/client/impl/producer/DefaultMQProducerImpl.java?ref=b6307dfce1c201877f7a27691cad74b842c0d971\n",
            "url is https://api.github.com/repos/apache/rocketmq/contents/client/src/main/java/org/apache/rocketmq/client/producer/DefaultMQProducer.java?ref=b6307dfce1c201877f7a27691cad74b842c0d971\n",
            "url is https://api.github.com/repos/apache/rocketmq/contents/client/src/main/java/org/apache/rocketmq/client/trace/AsyncTraceDispatcher.java?ref=b6307dfce1c201877f7a27691cad74b842c0d971\n",
            "url is https://api.github.com/repos/apache/rocketmq/contents/client/src/main/java/org/apache/rocketmq/client/trace/TraceConstants.java?ref=b6307dfce1c201877f7a27691cad74b842c0d971\n",
            "url is https://api.github.com/repos/apache/rocketmq/contents/client/src/test/java/org/apache/rocketmq/client/ValidatorsTest.java?ref=b6307dfce1c201877f7a27691cad74b842c0d971\n",
            "url is https://api.github.com/repos/apache/rocketmq/contents/client/src/test/java/org/apache/rocketmq/client/trace/DefaultMQConsumerWithTraceTest.java?ref=b6307dfce1c201877f7a27691cad74b842c0d971\n",
            "url is https://api.github.com/repos/apache/rocketmq/contents/client/src/test/java/org/apache/rocketmq/client/trace/DefaultMQProducerWithTraceTest.java?ref=b6307dfce1c201877f7a27691cad74b842c0d971\n",
            "url is https://api.github.com/repos/apache/rocketmq/contents/common/src/main/java/org/apache/rocketmq/common/BrokerConfig.java?ref=b6307dfce1c201877f7a27691cad74b842c0d971\n",
            "url is https://api.github.com/repos/apache/rocketmq/contents/common/src/main/java/org/apache/rocketmq/common/MixAll.java?ref=b6307dfce1c201877f7a27691cad74b842c0d971\n",
            "<re.Match object; span=(3876, 3917), match='public static final long MASTER_ID = 0L;\\n'>\n",
            "url is https://api.github.com/repos/apache/rocketmq/contents/common/src/main/java/org/apache/rocketmq/common/protocol/NamespaceUtil.java?ref=b6307dfce1c201877f7a27691cad74b842c0d971\n",
            "<re.Match object; span=(1131, 1219), match='public static final int RETRY_PREFIX_LENGTH = Mix>\n",
            "url is https://api.github.com/repos/apache/rocketmq/contents/common/src/main/java/org/apache/rocketmq/common/topic/TopicValidator.java?ref=b6307dfce1c201877f7a27691cad74b842c0d971\n",
            "<re.Match object; span=(2168, 2217), match='private static final int TOPIC_MAX_LENGTH = 127;\\>\n",
            "url is https://api.github.com/repos/apache/rocketmq/contents/common/src/test/java/org/apache/rocketmq/common/topic/TopicValidatorTest.java?ref=b6307dfce1c201877f7a27691cad74b842c0d971\n",
            "url is https://api.github.com/repos/apache/rocketmq/contents/store/src/main/java/org/apache/rocketmq/store/CommitLog.java?ref=b6307dfce1c201877f7a27691cad74b842c0d971\n",
            "<re.Match object; span=(55584, 55634), match='protected static final int RETRY_TIMES_OVER = 10;>\n",
            "dataset prepared for the repo apache/rocketmq\n",
            "preparing the dataset for the repo EnterpriseQualityCoding/FizzBuzzEnterpriseEdition\n",
            "file count is:  1\n",
            "url is https://api.github.com/repos/EnterpriseQualityCoding/FizzBuzzEnterpriseEdition/contents/src/main/java/com/seriouscompany/business/java/fizzbuzz/packagenamingpackage/impl/loop/LoopInitializer.java?ref=f111694a06df87cab3900349366b6c3a4e23635b\n",
            "<re.Match object; span=(117, 162), match='public static final int LOOP_INIT_VALUE = 1;\\n'>\n",
            "file count is:  1\n",
            "url is https://api.github.com/repos/EnterpriseQualityCoding/FizzBuzzEnterpriseEdition/contents/src/main/java/com/seriouscompany/business/java/fizzbuzz/packagenamingpackage/impl/loop/LoopInitializer.java?ref=fe2167fd741e67d227abcbb0ac0d55381abe71c3\n",
            "<re.Match object; span=(117, 162), match='public static final int LOOP_INIT_VALUE = 1;\\n'>\n",
            "dataset prepared for the repo EnterpriseQualityCoding/FizzBuzzEnterpriseEdition\n",
            "preparing the dataset for the repo iluwatar/java-design-patterns\n",
            "file count is:  1\n",
            "url is https://api.github.com/repos/iluwatar/java-design-patterns/contents/dao/src/test/java/com/iluwatar/dao/CustomerDaoImplTest.java?ref=d0af12b1ee59e261b4368d28c101169a2305e943\n",
            "dataset prepared for the repo iluwatar/java-design-patterns\n",
            "preparing the dataset for the repo spring-projects/spring-boot\n",
            "file count is:  1\n",
            "url is https://api.github.com/repos/spring-projects/spring-boot/contents/spring-boot-project/spring-boot-actuator/src/main/java/org/springframework/boot/actuate/web/trace/reactive/TraceableServerHttpResponse.java?ref=9ee6303876cb8046169e95ce6a0098f61cdb4739\n",
            "file count is:  1\n",
            "url is https://api.github.com/repos/spring-projects/spring-boot/contents/spring-boot-project/spring-boot-actuator/src/main/java/org/springframework/boot/actuate/web/trace/reactive/TraceableServerHttpResponse.java?ref=ffdc9f0ff3927057f00c6ca2b098c4280efda090\n",
            "file count is:  1\n",
            "url is https://api.github.com/repos/spring-projects/spring-boot/contents/spring-boot-project/spring-boot-actuator/src/main/java/org/springframework/boot/actuate/metrics/web/servlet/WebMvcTags.java?ref=a85e27c7cd391d4cbe1297857a8b4cbd0000cc69\n",
            "file count is:  1\n",
            "url is https://api.github.com/repos/spring-projects/spring-boot/contents/spring-boot-project/spring-boot-actuator/src/main/java/org/springframework/boot/actuate/web/trace/reactive/TraceableServerHttpResponse.java?ref=f2ca2533d51281f4c27da8231e8ab036e8f88310\n",
            "dataset prepared for the repo spring-projects/spring-boot\n",
            "preparing the dataset for the repo elastic/elasticsearch\n",
            "file count is:  1\n",
            "url is https://api.github.com/repos/elastic/elasticsearch/contents/server/src/test/java/org/elasticsearch/rest/action/cat/RestTableTests.java?ref=62fb3337a604c80803b4b7f8d7eaa3cccc9e8346\n",
            "file count is:  1\n",
            "url is https://api.github.com/repos/elastic/elasticsearch/contents/modules/rank-eval/src/test/java/org/elasticsearch/index/rankeval/QuerySpecTests.java?ref=b3a4a89151175f23ff4f09202c28e35a87d0da42\n",
            "file count is:  2\n",
            "url is https://api.github.com/repos/elastic/elasticsearch/contents/test/framework/src/main/java/org/elasticsearch/test/ESTestCase.java?ref=4f58cf24f819f162ad2ec286c4bc2f6b956339f9\n",
            "<re.Match object; span=(44217, 44273), match='private static final long AWAIT_BUSY_THRESHOLD = >\n",
            "url is https://api.github.com/repos/elastic/elasticsearch/contents/test/framework/src/test/java/org/elasticsearch/test/test/ESTestCaseTests.java?ref=4f58cf24f819f162ad2ec286c4bc2f6b956339f9\n",
            "file count is:  38\n",
            "url is https://api.github.com/repos/elastic/elasticsearch/contents/elasticsearch/src/main/java/org/elasticsearch/xpack/XPackPlugin.java?ref=7192c4630772fc205ca005648adf9667dbd48d17\n",
            "url is https://api.github.com/repos/elastic/elasticsearch/contents/elasticsearch/src/main/java/org/elasticsearch/xpack/XPackSettings.java?ref=7192c4630772fc205ca005648adf9667dbd48d17\n",
            "url is https://api.github.com/repos/elastic/elasticsearch/contents/elasticsearch/src/main/java/org/elasticsearch/xpack/common/http/HttpClient.java?ref=7192c4630772fc205ca005648adf9667dbd48d17\n",
            "url is https://api.github.com/repos/elastic/elasticsearch/contents/elasticsearch/src/main/java/org/elasticsearch/xpack/common/http/HttpSettings.java?ref=7192c4630772fc205ca005648adf9667dbd48d17\n",
            "url is https://api.github.com/repos/elastic/elasticsearch/contents/elasticsearch/src/main/java/org/elasticsearch/xpack/extensions/XPackExtension.java?ref=7192c4630772fc205ca005648adf9667dbd48d17\n",
            "url is https://api.github.com/repos/elastic/elasticsearch/contents/elasticsearch/src/main/java/org/elasticsearch/xpack/security/Security.java?ref=7192c4630772fc205ca005648adf9667dbd48d17\n",
            "url is https://api.github.com/repos/elastic/elasticsearch/contents/elasticsearch/src/main/java/org/elasticsearch/xpack/security/authc/InternalRealms.java?ref=7192c4630772fc205ca005648adf9667dbd48d17\n",
            "url is https://api.github.com/repos/elastic/elasticsearch/contents/elasticsearch/src/main/java/org/elasticsearch/xpack/security/authc/RealmConfig.java?ref=7192c4630772fc205ca005648adf9667dbd48d17\n",
            "url is https://api.github.com/repos/elastic/elasticsearch/contents/elasticsearch/src/main/java/org/elasticsearch/xpack/security/authc/RealmSettings.java?ref=7192c4630772fc205ca005648adf9667dbd48d17\n",
            "url is https://api.github.com/repos/elastic/elasticsearch/contents/elasticsearch/src/main/java/org/elasticsearch/xpack/security/authc/Realms.java?ref=7192c4630772fc205ca005648adf9667dbd48d17\n",
            "url is https://api.github.com/repos/elastic/elasticsearch/contents/elasticsearch/src/main/java/org/elasticsearch/xpack/security/authc/esnative/NativeRealm.java?ref=7192c4630772fc205ca005648adf9667dbd48d17\n",
            "url is https://api.github.com/repos/elastic/elasticsearch/contents/elasticsearch/src/main/java/org/elasticsearch/xpack/security/authc/file/FileRealm.java?ref=7192c4630772fc205ca005648adf9667dbd48d17\n",
            "url is https://api.github.com/repos/elastic/elasticsearch/contents/elasticsearch/src/main/java/org/elasticsearch/xpack/security/authc/ldap/ActiveDirectorySessionFactory.java?ref=7192c4630772fc205ca005648adf9667dbd48d17\n",
            "url is https://api.github.com/repos/elastic/elasticsearch/contents/elasticsearch/src/main/java/org/elasticsearch/xpack/security/authc/ldap/LdapRealm.java?ref=7192c4630772fc205ca005648adf9667dbd48d17\n",
            "url is https://api.github.com/repos/elastic/elasticsearch/contents/elasticsearch/src/main/java/org/elasticsearch/xpack/security/authc/ldap/LdapSessionFactory.java?ref=7192c4630772fc205ca005648adf9667dbd48d17\n",
            "url is https://api.github.com/repos/elastic/elasticsearch/contents/elasticsearch/src/main/java/org/elasticsearch/xpack/security/authc/ldap/LdapUserSearchSessionFactory.java?ref=7192c4630772fc205ca005648adf9667dbd48d17\n",
            "url is https://api.github.com/repos/elastic/elasticsearch/contents/elasticsearch/src/main/java/org/elasticsearch/xpack/security/authc/ldap/SearchGroupsResolver.java?ref=7192c4630772fc205ca005648adf9667dbd48d17\n",
            "url is https://api.github.com/repos/elastic/elasticsearch/contents/elasticsearch/src/main/java/org/elasticsearch/xpack/security/authc/ldap/UserAttributeGroupsResolver.java?ref=7192c4630772fc205ca005648adf9667dbd48d17\n",
            "url is https://api.github.com/repos/elastic/elasticsearch/contents/elasticsearch/src/main/java/org/elasticsearch/xpack/security/authc/ldap/support/LdapLoadBalancing.java?ref=7192c4630772fc205ca005648adf9667dbd48d17\n",
            "url is https://api.github.com/repos/elastic/elasticsearch/contents/elasticsearch/src/main/java/org/elasticsearch/xpack/security/authc/ldap/support/SessionFactory.java?ref=7192c4630772fc205ca005648adf9667dbd48d17\n",
            "url is https://api.github.com/repos/elastic/elasticsearch/contents/elasticsearch/src/main/java/org/elasticsearch/xpack/security/authc/pki/PkiRealm.java?ref=7192c4630772fc205ca005648adf9667dbd48d17\n",
            "url is https://api.github.com/repos/elastic/elasticsearch/contents/elasticsearch/src/main/java/org/elasticsearch/xpack/security/authc/support/CachingUsernamePasswordRealm.java?ref=7192c4630772fc205ca005648adf9667dbd48d17\n",
            "<re.Match object; span=(1361, 1428), match='private static final int DEFAULT_MAX_USERS = 100_>\n",
            "url is https://api.github.com/repos/elastic/elasticsearch/contents/elasticsearch/src/main/java/org/elasticsearch/xpack/security/authc/support/DnRoleMapper.java?ref=7192c4630772fc205ca005648adf9667dbd48d17\n",
            "url is https://api.github.com/repos/elastic/elasticsearch/contents/elasticsearch/src/main/java/org/elasticsearch/xpack/ssl/SSLConfiguration.java?ref=7192c4630772fc205ca005648adf9667dbd48d17\n",
            "url is https://api.github.com/repos/elastic/elasticsearch/contents/elasticsearch/src/main/java/org/elasticsearch/xpack/ssl/SSLConfigurationSettings.java?ref=7192c4630772fc205ca005648adf9667dbd48d17\n",
            "url is https://api.github.com/repos/elastic/elasticsearch/contents/elasticsearch/src/main/java/org/elasticsearch/xpack/ssl/SSLService.java?ref=7192c4630772fc205ca005648adf9667dbd48d17\n",
            "url is https://api.github.com/repos/elastic/elasticsearch/contents/elasticsearch/src/test/java/org/elasticsearch/test/SettingsFilterTests.java?ref=7192c4630772fc205ca005648adf9667dbd48d17\n",
            "url is https://api.github.com/repos/elastic/elasticsearch/contents/elasticsearch/src/test/java/org/elasticsearch/xpack/common/http/HttpClientTests.java?ref=7192c4630772fc205ca005648adf9667dbd48d17\n",
            "url is https://api.github.com/repos/elastic/elasticsearch/contents/elasticsearch/src/test/java/org/elasticsearch/xpack/security/SecurityTests.java?ref=7192c4630772fc205ca005648adf9667dbd48d17\n",
            "url is https://api.github.com/repos/elastic/elasticsearch/contents/elasticsearch/src/test/java/org/elasticsearch/xpack/security/authc/RealmSettingsTests.java?ref=7192c4630772fc205ca005648adf9667dbd48d17\n",
            "dataset prepared for the repo elastic/elasticsearch\n"
          ]
        }
      ],
      "source": [
        "import download\n",
        "result_path = os.path.join(\"data\", \"dataset.jsonl\")\n",
        "repos = download.read_csv_repo_set(repos_with_commit)\n",
        "for repo in repos:\n",
        "    result = download.get_data_with_magic_number(repo)\n",
        "    if result is not None:\n",
        "        download.write_to_jsonl(result, result_path)\n",
        "\n"
      ]
    },
    {
      "cell_type": "markdown",
      "metadata": {},
      "source": [
        "### This will create the magic number smell into the selected code where the magic number has been found."
      ]
    },
    {
      "cell_type": "code",
      "execution_count": 4,
      "metadata": {
        "id": "MNOadt9IIGaX"
      },
      "outputs": [
        {
          "name": "stdout",
          "output_type": "stream",
          "text": [
            "<re.Match object; span=(7662, 7704), match='private static final int PARALLELISM = 4;\\n'>\n",
            "<re.Match object; span=(1446, 1490), match='private static final int MAGIC_NUMBER = 42;\\n'>\n",
            "<re.Match object; span=(4922, 4973), match='protected static final int BUFFER_PER_CHANNEL = 1>\n",
            "<re.Match object; span=(3326, 3382), match='private static final int NUM_GHOST_CHECKPOINT_IDS>\n",
            "<re.Match object; span=(1159, 1196), match='public static final int VERSION = 0;\\n'>\n",
            "<re.Match object; span=(13216, 13257), match='public static final int MAX_JOBS = 2000;\\n'>\n",
            "<re.Match object; span=(1449, 1495), match='private static final long SAMPLING_RATE = 90;\\n'>\n",
            "<re.Match object; span=(2161, 2223), match='private static final long MINIMUM_TAKE_TIME_MILLI>\n",
            "<re.Match object; span=(2090, 2144), match='private static final long LOCK_TIMEOUT_MILLIS = 3>\n",
            "<re.Match object; span=(2396, 2448), match='private static final int PULL_MSG_RETRY_NUMBER = >\n",
            "<re.Match object; span=(1446, 1498), match='public static final int CHARACTER_MAX_LENGTH = 25>\n",
            "<re.Match object; span=(4621, 4684), match='private final long bootTimestamp = System.current>\n",
            "<re.Match object; span=(1131, 1219), match='public static final int RETRY_PREFIX_LENGTH = Mix>\n",
            "<re.Match object; span=(2168, 2217), match='private static final int TOPIC_MAX_LENGTH = 127;\\>\n",
            "<re.Match object; span=(55584, 55634), match='protected static final int RETRY_TIMES_OVER = 10;>\n",
            "<re.Match object; span=(117, 162), match='public static final int LOOP_INIT_VALUE = 1;\\n'>\n",
            "<re.Match object; span=(117, 162), match='public static final int LOOP_INIT_VALUE = 1;\\n'>\n",
            "<re.Match object; span=(44217, 44273), match='private static final long AWAIT_BUSY_THRESHOLD = >\n",
            "<re.Match object; span=(1361, 1428), match='private static final int DEFAULT_MAX_USERS = 100_>\n",
            "<re.Match object; span=(7662, 7704), match='private static final int PARALLELISM = 4;\\n'>\n",
            "<re.Match object; span=(1446, 1490), match='private static final int MAGIC_NUMBER = 42;\\n'>\n",
            "<re.Match object; span=(4922, 4973), match='protected static final int BUFFER_PER_CHANNEL = 1>\n",
            "<re.Match object; span=(3326, 3382), match='private static final int NUM_GHOST_CHECKPOINT_IDS>\n",
            "<re.Match object; span=(1159, 1196), match='public static final int VERSION = 0;\\n'>\n",
            "<re.Match object; span=(13216, 13257), match='public static final int MAX_JOBS = 2000;\\n'>\n",
            "<re.Match object; span=(1449, 1495), match='private static final long SAMPLING_RATE = 90;\\n'>\n",
            "<re.Match object; span=(2161, 2223), match='private static final long MINIMUM_TAKE_TIME_MILLI>\n",
            "<re.Match object; span=(2090, 2144), match='private static final long LOCK_TIMEOUT_MILLIS = 3>\n",
            "<re.Match object; span=(2396, 2448), match='private static final int PULL_MSG_RETRY_NUMBER = >\n",
            "<re.Match object; span=(1446, 1498), match='public static final int CHARACTER_MAX_LENGTH = 25>\n",
            "<re.Match object; span=(4621, 4684), match='private final long bootTimestamp = System.current>\n",
            "<re.Match object; span=(1131, 1219), match='public static final int RETRY_PREFIX_LENGTH = Mix>\n",
            "<re.Match object; span=(2168, 2217), match='private static final int TOPIC_MAX_LENGTH = 127;\\>\n",
            "<re.Match object; span=(55584, 55634), match='protected static final int RETRY_TIMES_OVER = 10;>\n",
            "<re.Match object; span=(117, 162), match='public static final int LOOP_INIT_VALUE = 1;\\n'>\n",
            "<re.Match object; span=(117, 162), match='public static final int LOOP_INIT_VALUE = 1;\\n'>\n",
            "<re.Match object; span=(44217, 44273), match='private static final long AWAIT_BUSY_THRESHOLD = >\n",
            "<re.Match object; span=(1361, 1428), match='private static final int DEFAULT_MAX_USERS = 100_>\n"
          ]
        }
      ],
      "source": [
        "import download\n",
        "after_code = download.introduce_magic_numbers_jsonl(result_path, result_dataset_path)"
      ]
    },
    {
      "cell_type": "markdown",
      "metadata": {},
      "source": [
        "### Alternative data collection strategy, clone the repo and crete the magic number refactoring dataset.\n",
        "\n",
        "- This take a while to clone the repo at the directory `repo` and generate the dataset by repowise at `result_dataset_path`"
      ]
    },
    {
      "cell_type": "code",
      "execution_count": 5,
      "metadata": {},
      "outputs": [
        {
          "name": "stdout",
          "output_type": "stream",
          "text": [
            "Snailclimb/JavaGuide\n",
            "GrowingGit/GitHub-Chinese-Top-Charts\n",
            "<re.Match object; span=(1816, 1864), match='private static final long TEST_PART_PRICE = 0L;\\n>\n",
            "<re.Match object; span=(1996, 2040), match='private static final int NUM_CREATURES = 3;\\n'>\n",
            "<re.Match object; span=(1601, 1643), match='private static final int THRESHOLD = 200;\\n'>\n",
            "<re.Match object; span=(1816, 1854), match='private static final int RETRIES = 3;\\n'>\n",
            "<re.Match object; span=(1620, 1659), match='private static final int CAPACITY = 3;\\n'>\n",
            "<re.Match object; span=(1919, 1971), match='private final long futureTime = 1_000_000_000_000>\n",
            "<re.Match object; span=(1725, 1769), match='private static final int STARTUP_DELAY = 4;\\n'>\n",
            "<re.Match object; span=(2177, 2213), match='private final int numOfRetries = 3;\\n'>\n",
            "<re.Match object; span=(2103, 2139), match='private final int numOfRetries = 3;\\n'>\n",
            "<re.Match object; span=(2165, 2201), match='private final int numOfRetries = 3;\\n'>\n",
            "<re.Match object; span=(2156, 2192), match='private final int numOfRetries = 3;\\n'>\n",
            "<re.Match object; span=(2238, 2274), match='private final int numOfRetries = 3;\\n'>\n",
            "<re.Match object; span=(1517, 1572), match='private static final long serialVersionUID = 2459>\n",
            "<re.Match object; span=(1475, 1529), match='private static final long serialVersionUID = 1235>\n",
            "<re.Match object; span=(1479, 1533), match='private static final long serialVersionUID = 5759>\n",
            "<re.Match object; span=(1538, 1592), match='private static final long serialVersionUID = 8672>\n",
            "<re.Match object; span=(1533, 1587), match='private static final long serialVersionUID = 3420>\n",
            "<re.Match object; span=(2383, 2419), match='private final int numOfRetries = 1;\\n'>\n",
            "<re.Match object; span=(1777, 1825), match='private static final int WALK_ACCELERATION = 2;\\n>\n",
            "<re.Match object; span=(1654, 1702), match='private static final int WALK_ACCELERATION = 1;\\n>\n",
            "<re.Match object; span=(1395, 1444), match='private static final long serialVersionUID = 1L;\\>\n",
            "<re.Match object; span=(1605, 1638), match='private static final int ID = 1;\\n'>\n",
            "<re.Match object; span=(1883, 1926), match='private static final int NUM_ENTITIES = 5;\\n'>\n",
            "<re.Match object; span=(1625, 1672), match='private static final int MAX_ENTITIES = 10000;\\n'>\n",
            "<re.Match object; span=(1640, 1687), match='private static final int MAX_ENTITIES = 10000;\\n'>\n",
            "<re.Match object; span=(1637, 1684), match='private static final int MAX_ENTITIES = 10000;\\n'>\n",
            "<re.Match object; span=(1533, 1582), match='private static final long serialVersionUID = 1L;\\>\n",
            "<re.Match object; span=(1673, 1722), match='private static final long serialVersionUID = 1L;\\>\n",
            "<re.Match object; span=(1942, 2015), match='private static final int DAYS_UNTIL_EXPIRATION_WH>\n",
            "<re.Match object; span=(1442, 1478), match='public static final int WIDTH = 10;\\n'>\n",
            "<re.Match object; span=(2447, 2490), match='private static final int THREAD_COUNT = 8;\\n'>\n",
            "<re.Match object; span=(1450, 1518), match='private static final long serialVersionUID = -339>\n",
            "<re.Match object; span=(2013, 2064), match='public static final int MAX_RUNNING_EVENTS = 1000>\n",
            "<re.Match object; span=(1472, 1540), match='private static final long serialVersionUID = -619>\n",
            "<re.Match object; span=(1477, 1544), match='private static final long serialVersionUID = -483>\n",
            "<re.Match object; span=(1483, 1551), match='private static final long serialVersionUID = -843>\n",
            "<re.Match object; span=(1769, 1812), match='private static final int MAX_PENDING = 16;\\n'>\n",
            "<re.Match object; span=(3034, 3083), match='public static final int ACCOUNT_OF_DAENERYS = 1;\\>\n",
            "Error processing file: m:\\Data\\Dal\\Term2\\ML\\Project\\FinalProject\\Group01\\magic_number_refactoring\\repos\\java-design-patterns\\fanout-fanin\\src\\main\\java\\com\\iluwatar\\fanout\\fanin\\App.java - 'charmap' codec can't decode byte 0x9d in position 1965: character maps to <undefined>\n",
            "<re.Match object; span=(1425, 1474), match='private static final long serialVersionUID = 1L;\\>\n",
            "<re.Match object; span=(1685, 1742), match='private static final int GAME_LOOP_DURATION_TIME >\n",
            "Error processing file: m:\\Data\\Dal\\Term2\\ML\\Project\\FinalProject\\Group01\\magic_number_refactoring\\repos\\java-design-patterns\\game-loop\\src\\main\\java\\com\\iluwatar\\gameloop\\FixedStepGameLoop.java - 'charmap' codec can't decode byte 0x9d in position 1540: character maps to <undefined>\n",
            "<re.Match object; span=(2220, 2261), match='private final long timeoutInSeconds = 4;\\n'>\n",
            "<re.Match object; span=(1435, 1482), match='public static final int PRIZE_AMOUNT = 100000;\\n'>\n",
            "<re.Match object; span=(1816, 1856), match='public static final int MIN_NUMBER = 1;\\n'>\n",
            "<re.Match object; span=(1543, 1590), match='private static final int DEFAULT_PORT = 27017;\\n'>\n",
            "<re.Match object; span=(2273, 2317), match='private static final int TEST_PORT = 27017;\\n'>\n",
            "<re.Match object; span=(1634, 1683), match='private static final long serialVersionUID = 1L;\\>\n",
            "<re.Match object; span=(1895, 1944), match='private static final long serialVersionUID = 1L;\\>\n",
            "<re.Match object; span=(2075, 2124), match='private static final long serialVersionUID = 1L;\\>\n",
            "<re.Match object; span=(1916, 1965), match='private static final long serialVersionUID = 1L;\\>\n",
            "<re.Match object; span=(1474, 1523), match='private static final long serialVersionUID = 1L;\\>\n",
            "<re.Match object; span=(1586, 1640), match='protected static final int HEARTBEAT_INTERVAL = 5>\n",
            "<re.Match object; span=(2590, 2630), match='private static final int WAIT_TIME = 3;\\n'>\n",
            "<re.Match object; span=(1461, 1528), match='private static final long serialVersionUID = 8556>\n",
            "<re.Match object; span=(1979, 2026), match='private static final int BUFFER_THRESHOLD = 3;\\n'>\n",
            "<re.Match object; span=(2072, 2124), match='private static final double RANDOM_VARIABLE = 10.>\n",
            "<re.Match object; span=(1839, 1907), match='private static final long serialVersionUID = -474>\n",
            "<re.Match object; span=(2064, 2113), match='private static final long serialVersionUID = 1L;\\>\n",
            "<re.Match object; span=(1694, 1761), match='private static final long serialVersionUID = 1210>\n",
            "<re.Match object; span=(1878, 1926), match='private static final int NUMBER_OF_THREADS = 5;\\n>\n",
            "<re.Match object; span=(1554, 1596), match='private static final int ACCOUNT_NUM = 4;\\n'>\n",
            "<re.Match object; span=(1623, 1664), match='private static final int ITEM_COUNT = 5;\\n'>\n",
            "<re.Match object; span=(1782, 1820), match='private static final int RUNNING = 1;\\n'>\n",
            "<re.Match object; span=(1483, 1533), match='private static final int NUM_WIZARDS_ALLOWED = 3;>\n",
            "<re.Match object; span=(3433, 3478), match='private static final int SHUTDOWN_TIME = 15;\\n'>\n",
            "<re.Match object; span=(1829, 1896), match='private static final long serialVersionUID = 6235>\n",
            "<re.Match object; span=(1699, 1767), match='private static final long serialVersionUID = -697>\n",
            "<re.Match object; span=(1570, 1638), match='private static final long serialVersionUID = -375>\n",
            "Error processing file: m:\\Data\\Dal\\Term2\\ML\\Project\\FinalProject\\Group01\\magic_number_refactoring\\repos\\java-design-patterns\\role-object\\src\\main\\java\\com\\iluwatar\\roleobject\\ApplicationRoleObject.java - 'charmap' codec can't decode byte 0x9d in position 3568: character maps to <undefined>\n",
            "<re.Match object; span=(2090, 2138), match='public static final double PRODUCT_COST = 50.0;\\n>\n",
            "<re.Match object; span=(1521, 1569), match='public static final double TAX_PERCENTAGE = 20;\\n>\n",
            "<re.Match object; span=(1519, 1567), match='public static final double TAX_PERCENTAGE = 60;\\n>\n",
            "<re.Match object; span=(1799, 1852), match='public static final long serialVersionUID = 71498>\n",
            "<re.Match object; span=(2110, 2154), match='private static final int INITIAL_COUNT = 5;\\n'>\n",
            "<re.Match object; span=(1417, 1462), match='private static final int TIME_PER_CUP = 100;\\n'>\n",
            "<re.Match object; span=(1419, 1467), match='private static final int TIME_PER_POTATO = 200;\\n>\n",
            "<re.Match object; span=(2166, 2216), match='private static final int TASK_COUNT = 128 * 1024;>\n",
            "<re.Match object; span=(1549, 1598), match='private static final long serialVersionUID = 1L;\\>\n",
            "<re.Match object; span=(1456, 1505), match='private static final long serialVersionUID = 1L;\\>\n",
            "<re.Match object; span=(1603, 1636), match='private static final int ID = 1;\\n'>\n",
            "<re.Match object; span=(1729, 1780), match='private static final int GAME_RUNNING_TIME = 2000>\n",
            "<re.Match object; span=(1616, 1671), match='private static final int PATROLLING_LEFT_BOUNDING>\n",
            "<re.Match object; span=(1525, 1556), match='private final long bookId = 1;\\n'>\n",
            "iluwatar/java-design-patterns\n"
          ]
        }
      ],
      "source": [
        "import download\n",
        "import os\n",
        "repo_path = \"repos\"\n",
        "repos = download.get_repo_names_from_csv(FILE_PATH)\n",
        "for repo in repos:\n",
        "    repo_name = repo.split('/')[-1]\n",
        "    download.clone_or_open_repo(repo_name, repo, repo_path)\n",
        "    data = download.iterate_java_files(os.path.join(os.getcwd(),repo_path, repo_name))\n",
        "    if(data is not None):\n",
        "        download.insert_java_files(data, result_dataset_path)\n",
        "    print(repo)"
      ]
    },
    {
      "cell_type": "code",
      "execution_count": null,
      "metadata": {},
      "outputs": [],
      "source": []
    }
  ],
  "metadata": {
    "colab": {
      "provenance": []
    },
    "kernelspec": {
      "display_name": "Python 3 (ipykernel)",
      "language": "python",
      "name": "python3"
    },
    "language_info": {
      "codemirror_mode": {
        "name": "ipython",
        "version": 3
      },
      "file_extension": ".py",
      "mimetype": "text/x-python",
      "name": "python",
      "nbconvert_exporter": "python",
      "pygments_lexer": "ipython3",
      "version": "3.9.0"
    }
  },
  "nbformat": 4,
  "nbformat_minor": 0
}
