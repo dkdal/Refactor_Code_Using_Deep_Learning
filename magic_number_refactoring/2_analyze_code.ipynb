{
 "cells": [
  {
   "cell_type": "markdown",
   "metadata": {},
   "source": [
    "#### Preprocess the dataset and remove the outliers to keep the data in same range\n",
    "\n",
    "1. Get the before and after code from the dataset and get the magic number"
   ]
  },
  {
   "cell_type": "code",
   "execution_count": 2,
   "metadata": {},
   "outputs": [],
   "source": [
    "import analyze_code\n",
    "import os\n",
    "\n",
    "num_lines_around_declaration = 1\n",
    "num_lines_above_usage = 5\n",
    "num_lines_below_usage = 5\n",
    "\n",
    "result_dataset_path = os.path.join(\"data\", \"result_dataset.jsonl\")\n",
    "analyzed_dataset_path = os.path.join(\"data\", \"analyzed_dataset.jsonl\")"
   ]
  },
  {
   "cell_type": "markdown",
   "metadata": {},
   "source": [
    "This cell will generate the pre processing output with number of above and below line mentioned in first cell with the magic number smell detected."
   ]
  },
  {
   "cell_type": "code",
   "execution_count": 3,
   "metadata": {},
   "outputs": [],
   "source": [
    "dataset = analyze_code.read_jsonl(result_dataset_path)\n",
    "total_count = 0\n",
    "with_none = 0\n",
    "rec_count = 0\n",
    "for result in dataset:\n",
    "    total_count += 1\n",
    "    declaration_line, selected_code = analyze_code.extract_code_around_constant_declaration(\n",
    "        result['after'], num_lines_around_declaration, num_lines_above_usage, num_lines_below_usage\n",
    "    )\n",
    "    if declaration_line is not None and selected_code is not None:\n",
    "        rec_count += 1\n",
    "        final = analyze_code.extract_constant_info(declaration_line)\n",
    "        if final is not None and final['constant_value'] != 'null':\n",
    "            updated_code = analyze_code.replace_constant_with_value(final['constant_name'], final['constant_value'], selected_code)\n",
    "            analyze_code.append_fields_to_jsonl(updated_code, declaration_line+\"\\n\"+selected_code, analyzed_dataset_path)\n",
    "\n"
   ]
  },
  {
   "cell_type": "code",
   "execution_count": null,
   "metadata": {},
   "outputs": [],
   "source": []
  }
 ],
 "metadata": {
  "kernelspec": {
   "display_name": "Python 3",
   "language": "python",
   "name": "python3"
  },
  "language_info": {
   "codemirror_mode": {
    "name": "ipython",
    "version": 3
   },
   "file_extension": ".py",
   "mimetype": "text/x-python",
   "name": "python",
   "nbconvert_exporter": "python",
   "pygments_lexer": "ipython3",
   "version": "3.9.0"
  }
 },
 "nbformat": 4,
 "nbformat_minor": 2
}
