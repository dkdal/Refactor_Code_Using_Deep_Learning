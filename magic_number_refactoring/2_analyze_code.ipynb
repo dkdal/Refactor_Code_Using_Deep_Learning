{
 "cells": [
  {
   "cell_type": "markdown",
   "metadata": {},
   "source": [
    "#### Preprocess the dataset and remove the outliers to keep the data in same range\n",
    "\n",
    "1. Get the before and after code from the dataset and get the magic number"
   ]
  },
  {
   "cell_type": "code",
   "execution_count": 1,
   "metadata": {},
   "outputs": [],
   "source": [
    "import analyze_code\n",
    "\n",
    "num_lines_around_declaration = 1\n",
    "num_lines_above_usage = 5\n",
    "num_lines_below_usage = 5"
   ]
  },
  {
   "cell_type": "code",
   "execution_count": 6,
   "metadata": {},
   "outputs": [
    {
     "name": "stdout",
     "output_type": "stream",
     "text": [
      "Constant Declaration Line:\n",
      "        private static final int FILE_MAGIC = 0x414E4554;\n",
      "\n",
      "Lines Around Constant Usage:\n",
      "\n",
      "                // verify file magic header intact\n",
      "                final int magic = in.readInt();\n",
      "                if (magic != FILE_MAGIC) {\n",
      "                    throw new ProtocolException(\"unexpected magic: \" + magic);\n",
      "                }\n",
      "\n"
     ]
    }
   ],
   "source": [
    "import analyze_code\n",
    "\n",
    "num_lines_around_declaration = 1\n",
    "num_lines_above_usage = 3\n",
    "num_lines_below_usage = 3\n",
    "\n",
    "input_code_java = \"\"\"\n",
    "    public class NetworkStatsService extends INetworkStatsService.Stub {\n",
    "        private static final int FILE_MAGIC = 0x414E4554;\n",
    "\n",
    "        private void readStatsLocked() {\n",
    "            if (LOGD) Slog.v(TAG, \"readStatsLocked()\");\n",
    "\n",
    "            // clear any existing stats and read from disk\n",
    "            mSummaryStats.clear();\n",
    "\n",
    "            FileInputStream fis = null;\n",
    "            try {\n",
    "                fis = mSummaryFile.openRead();\n",
    "                final DataInputStream in = new DataInputStream(fis);\n",
    "\n",
    "                // verify file magic header intact\n",
    "                final int magic = in.readInt();\n",
    "                if (magic != FILE_MAGIC) {\n",
    "                    throw new ProtocolException(\"unexpected magic: \" + magic);\n",
    "                }\n",
    "\n",
    "                final int version = in.readInt();\n",
    "                switch (version) {\n",
    "                    case 100: {\n",
    "                        // file format is pairs of interfaces and stats:\n",
    "                        // summary := size *(InterfaceIdentity NetworkStatsHistory)\n",
    "\n",
    "                        final int size = in.readInt();\n",
    "                        for (int i = 0; i < size; i++) {\n",
    "                            final InterfaceIdentity ident = new InterfaceIdentity(in);\n",
    "                            final NetworkStatsHistory history = new NetworkStatsHistory(in);\n",
    "                            mSummaryStats.put(ident, history);\n",
    "                        }\n",
    "                        break;\n",
    "                    }\n",
    "                    default: {\n",
    "                        throw new ProtocolException(\"unexpected version: \" + version);\n",
    "                    }\n",
    "                }\n",
    "            } catch (FileNotFoundException e) {\n",
    "                // missing stats is okay, probably first boot\n",
    "            } catch (IOException e) {\n",
    "                Slog.e(TAG, \"problem reading network stats\", e);\n",
    "            } finally {\n",
    "                IoUtils.closeQuietly(fis);\n",
    "            }\n",
    "        }\n",
    "    }\"\"\"\n",
    "# method_code = analyze_code.find_method(input_code_java, 111)\n",
    "\n",
    "declaration_line, selected_code = analyze_code.extract_code_around_constant_declaration(\n",
    "    input_code_java, num_lines_around_declaration, num_lines_above_usage, num_lines_below_usage\n",
    ")\n",
    "# print(\"method_code\", method_code)\n",
    "\n",
    "if declaration_line is not None and selected_code is not None:\n",
    "    print(\"Constant Declaration Line:\")\n",
    "    print(declaration_line)\n",
    "    print(\"\\nLines Around Constant Usage:\")\n",
    "    print(selected_code)\n",
    "else:\n",
    "    print(\"No constant declarations found.\")"
   ]
  },
  {
   "cell_type": "code",
   "execution_count": 4,
   "metadata": {},
   "outputs": [
    {
     "name": "stdout",
     "output_type": "stream",
     "text": [
      "total:  4514\n",
      "with_none:  0\n",
      "rec:  4396\n"
     ]
    }
   ],
   "source": [
    "dataset = analyze_code.read_jsonl(\"data/dataset_v2.jsonl\")\n",
    "total_count = 0\n",
    "with_none = 0\n",
    "rec_count = 0\n",
    "for result in dataset:\n",
    "    total_count += 1\n",
    "    declaration_line, selected_code = analyze_code.extract_code_around_constant_declaration(\n",
    "        result['after'], num_lines_around_declaration, num_lines_above_usage, num_lines_below_usage\n",
    "    )\n",
    "    if declaration_line is not None and selected_code is not None:\n",
    "        rec_count += 1\n",
    "        # if declaration_line is not None and selected_code is not None:\n",
    "        #     print(\"Constant Declaration Line:\")\n",
    "        #     print(declaration_line)\n",
    "        #     print(\"\\nLines Around Constant Usage:\")\n",
    "        # print(selected_code)\n",
    "        # else:\n",
    "        #     print(\"No constant declarations found.\")\n",
    "        # print(\"result: \", result)\n",
    "        final = analyze_code.extract_constant_info(declaration_line)\n",
    "        # print(\"final is: \", final)\n",
    "        # print(final['constant_name'])\n",
    "        # print(final['constant_value'])\n",
    "        # print(final['constant_value'])\n",
    "        if final is not None and final['constant_value'] != 'null':\n",
    "            updated_code = analyze_code.replace_constant_with_value(final['constant_name'], final['constant_value'], selected_code)\n",
    "            # print(updated_code)\n",
    "            analyze_code.append_fields_to_jsonl(updated_code, declaration_line+\"\\n\"+selected_code, \"data/analyzed_dataset_5_lines.jsonl\")\n",
    "\n",
    "print(\"total: \", total_count)\n",
    "print(\"with_none: \", with_none)\n",
    "print(\"rec: \", rec_count)"
   ]
  },
  {
   "cell_type": "code",
   "execution_count": 2,
   "metadata": {},
   "outputs": [
    {
     "ename": "ValueError",
     "evalue": "not enough values to unpack (expected 3, got 2)",
     "output_type": "error",
     "traceback": [
      "\u001b[1;31m---------------------------------------------------------------------------\u001b[0m",
      "\u001b[1;31mValueError\u001b[0m                                Traceback (most recent call last)",
      "Cell \u001b[1;32mIn[2], line 7\u001b[0m\n\u001b[0;32m      5\u001b[0m \u001b[38;5;28;01mfor\u001b[39;00m result \u001b[38;5;129;01min\u001b[39;00m dataset:\n\u001b[0;32m      6\u001b[0m     total_count \u001b[38;5;241m+\u001b[39m\u001b[38;5;241m=\u001b[39m \u001b[38;5;241m1\u001b[39m\n\u001b[1;32m----> 7\u001b[0m     declaration_line, selected_code, method_code \u001b[38;5;241m=\u001b[39m analyze_code\u001b[38;5;241m.\u001b[39mextract_code_around_constant_declaration(\n\u001b[0;32m      8\u001b[0m         result[\u001b[38;5;124m'\u001b[39m\u001b[38;5;124mafter\u001b[39m\u001b[38;5;124m'\u001b[39m], num_lines_around_declaration, num_lines_above_usage, num_lines_below_usage\n\u001b[0;32m      9\u001b[0m     )\n\u001b[0;32m     10\u001b[0m     \u001b[38;5;28;01mif\u001b[39;00m declaration_line \u001b[38;5;129;01mis\u001b[39;00m \u001b[38;5;129;01mnot\u001b[39;00m \u001b[38;5;28;01mNone\u001b[39;00m \u001b[38;5;129;01mand\u001b[39;00m selected_code \u001b[38;5;129;01mis\u001b[39;00m \u001b[38;5;129;01mnot\u001b[39;00m \u001b[38;5;28;01mNone\u001b[39;00m \u001b[38;5;129;01mand\u001b[39;00m method_code \u001b[38;5;129;01mis\u001b[39;00m \u001b[38;5;28;01mNone\u001b[39;00m:\n\u001b[0;32m     11\u001b[0m         with_none \u001b[38;5;241m+\u001b[39m\u001b[38;5;241m=\u001b[39m \u001b[38;5;241m1\u001b[39m\n",
      "\u001b[1;31mValueError\u001b[0m: not enough values to unpack (expected 3, got 2)"
     ]
    }
   ],
   "source": [
    "dataset = analyze_code.read_jsonl(\"data/dataset_v1.jsonl\")\n",
    "total_count = 0\n",
    "with_none = 0\n",
    "rec_count = 0\n",
    "for result in dataset:\n",
    "    total_count += 1\n",
    "    declaration_line, selected_code, method_code = analyze_code.extract_code_around_constant_declaration(\n",
    "        result['after'], num_lines_around_declaration, num_lines_above_usage, num_lines_below_usage\n",
    "    )\n",
    "    if declaration_line is not None and selected_code is not None and method_code is None:\n",
    "        with_none += 1\n",
    "    if declaration_line is not None and selected_code is not None and method_code is not None:\n",
    "        rec_count += 1\n",
    "        # if declaration_line is not None and selected_code is not None:\n",
    "        #     print(\"Constant Declaration Line:\")\n",
    "        #     print(declaration_line)\n",
    "        #     print(\"\\nLines Around Constant Usage:\")\n",
    "        # print(selected_code)\n",
    "        # else:\n",
    "        #     print(\"No constant declarations found.\")\n",
    "        # print(\"result: \", result)\n",
    "        final = analyze_code.extract_constant_info(declaration_line)\n",
    "        # print(\"final is: \", final)\n",
    "        # print(final['constant_name'])\n",
    "        # print(final['constant_value'])\n",
    "        # print(final['constant_value'])\n",
    "        if final is not None and final['constant_value'] != 'null':\n",
    "            updated_code, updated_method_code = analyze_code.replace_constant_with_value(final['constant_name'], final['constant_value'], selected_code, method_code)\n",
    "            # print(updated_code)\n",
    "            analyze_code.append_fields_to_jsonl(updated_code, declaration_line+\"\\n\"+selected_code, updated_method_code, method_code,  \"data/analyzed_dataset_4900.jsonl\")\n",
    "\n",
    "print(\"total: \", total_count)\n",
    "print(\"with_none: \", with_none)\n",
    "print(\"rec: \", rec_count)"
   ]
  },
  {
   "cell_type": "code",
   "execution_count": 11,
   "metadata": {},
   "outputs": [
    {
     "name": "stdout",
     "output_type": "stream",
     "text": [
      "{'Constant Name': 'str', 'Constant Value': '\"test0\"'}\n"
     ]
    }
   ],
   "source": [
    "final = analyze_code.extract_constant_info('public static final float str = \"test0\";')\n",
    "print(final)"
   ]
  },
  {
   "cell_type": "code",
   "execution_count": null,
   "metadata": {},
   "outputs": [],
   "source": []
  }
 ],
 "metadata": {
  "kernelspec": {
   "display_name": "Python 3",
   "language": "python",
   "name": "python3"
  },
  "language_info": {
   "codemirror_mode": {
    "name": "ipython",
    "version": 3
   },
   "file_extension": ".py",
   "mimetype": "text/x-python",
   "name": "python",
   "nbconvert_exporter": "python",
   "pygments_lexer": "ipython3",
   "version": "3.9.0"
  }
 },
 "nbformat": 4,
 "nbformat_minor": 2
}
