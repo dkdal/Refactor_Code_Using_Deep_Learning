{
 "cells": [
  {
   "cell_type": "code",
   "execution_count": null,
   "metadata": {},
   "outputs": [],
   "source": [
    "# Load model - used for training and testing in different sessions\n",
    "\n",
    "# Run prep cell first\n",
    "\n",
    "from transformers import T5ForConditionalGeneration\n",
    "\n",
    "# Initialize the T5 tokenizer and model\n",
    "model = T5ForConditionalGeneration.from_pretrained('magic_smell_model_s_3lines_700_e40_b4')"
   ]
  }
 ],
 "metadata": {
  "kernelspec": {
   "display_name": "Python 3",
   "language": "python",
   "name": "python3"
  },
  "language_info": {
   "codemirror_mode": {
    "name": "ipython",
    "version": 3
   },
   "file_extension": ".py",
   "mimetype": "text/x-python",
   "name": "python",
   "nbconvert_exporter": "python",
   "pygments_lexer": "ipython3",
   "version": "3.9.0"
  }
 },
 "nbformat": 4,
 "nbformat_minor": 2
}
